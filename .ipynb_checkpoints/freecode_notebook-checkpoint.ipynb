{
 "cells": [
  {
   "cell_type": "markdown",
   "id": "4139db6d",
   "metadata": {},
   "source": [
    "# Displaying Hello World"
   ]
  },
  {
   "cell_type": "code",
   "execution_count": 1,
   "id": "ce7c5982",
   "metadata": {},
   "outputs": [
    {
     "name": "stdout",
     "output_type": "stream",
     "text": [
      "Hello World !\n"
     ]
    }
   ],
   "source": [
    "print(\"Hello World !\")"
   ]
  },
  {
   "cell_type": "markdown",
   "id": "a8dcecf4",
   "metadata": {},
   "source": [
    "# Variables And Operators"
   ]
  },
  {
   "cell_type": "code",
   "execution_count": 3,
   "id": "ad00ebea",
   "metadata": {},
   "outputs": [
    {
     "name": "stdout",
     "output_type": "stream",
     "text": [
      "67\n",
      "78\n",
      "112\n",
      "Variable   Type    Data/Info\n",
      "----------------------------\n",
      "num1       int     67\n",
      "num2       int     78\n",
      "sum        int     112\n"
     ]
    }
   ],
   "source": [
    "num1 = 34\n",
    "num2 = 78\n",
    "sum = num1 + num2\n",
    "num1 = 67\n",
    "print(num1)\n",
    "print(num2)\n",
    "print(sum)\n",
    "\n",
    "%whos\n"
   ]
  },
  {
   "cell_type": "code",
   "execution_count": 4,
   "id": "50e08386",
   "metadata": {},
   "outputs": [
    {
     "ename": "SyntaxError",
     "evalue": "invalid syntax (Temp/ipykernel_344/1575650200.py, line 1)",
     "output_type": "error",
     "traceback": [
      "\u001b[1;36m  File \u001b[1;32m\"C:\\Users\\user\\AppData\\Local\\Temp/ipykernel_344/1575650200.py\"\u001b[1;36m, line \u001b[1;32m1\u001b[0m\n\u001b[1;33m    print typeof(sum)\u001b[0m\n\u001b[1;37m          ^\u001b[0m\n\u001b[1;31mSyntaxError\u001b[0m\u001b[1;31m:\u001b[0m invalid syntax\n"
     ]
    }
   ],
   "source": [
    "print typeof(sum)"
   ]
  },
  {
   "cell_type": "code",
   "execution_count": 5,
   "id": "ce11bb2b",
   "metadata": {},
   "outputs": [
    {
     "name": "stdout",
     "output_type": "stream",
     "text": [
      "<class 'int'>\n"
     ]
    }
   ],
   "source": [
    "print ( type(sum))"
   ]
  },
  {
   "cell_type": "code",
   "execution_count": 6,
   "id": "450a2130",
   "metadata": {},
   "outputs": [
    {
     "name": "stdout",
     "output_type": "stream",
     "text": [
      "SheillaKemboi\n"
     ]
    }
   ],
   "source": [
    "name1 = \"Sheilla\"\n",
    "name2 = \"Kemboi\"\n",
    "\n",
    "print(name1 + name2)"
   ]
  },
  {
   "cell_type": "code",
   "execution_count": 7,
   "id": "2f549340",
   "metadata": {},
   "outputs": [
    {
     "ename": "SyntaxError",
     "evalue": "invalid syntax (Temp/ipykernel_344/3004786597.py, line 1)",
     "output_type": "error",
     "traceback": [
      "\u001b[1;36m  File \u001b[1;32m\"C:\\Users\\user\\AppData\\Local\\Temp/ipykernel_344/3004786597.py\"\u001b[1;36m, line \u001b[1;32m1\u001b[0m\n\u001b[1;33m    print(name1 , \" \", + , \" \" , name2)\u001b[0m\n\u001b[1;37m                         ^\u001b[0m\n\u001b[1;31mSyntaxError\u001b[0m\u001b[1;31m:\u001b[0m invalid syntax\n"
     ]
    }
   ],
   "source": [
    "print(name1 , \" \", + , \" \" , name2)"
   ]
  },
  {
   "cell_type": "code",
   "execution_count": 8,
   "id": "5baabca0",
   "metadata": {},
   "outputs": [
    {
     "name": "stdout",
     "output_type": "stream",
     "text": [
      "SheillaKemboi\n"
     ]
    }
   ],
   "source": [
    "print(name1 + name2)"
   ]
  },
  {
   "cell_type": "code",
   "execution_count": 9,
   "id": "ab2889c3",
   "metadata": {},
   "outputs": [
    {
     "name": "stdout",
     "output_type": "stream",
     "text": [
      "Variable   Type    Data/Info\n",
      "----------------------------\n",
      "name1      str     Sheilla\n",
      "name2      str     Kemboi\n",
      "num1       int     67\n",
      "num2       int     78\n",
      "sum        int     112\n"
     ]
    }
   ],
   "source": [
    "%whos"
   ]
  },
  {
   "cell_type": "code",
   "execution_count": 10,
   "id": "125c1ce7",
   "metadata": {},
   "outputs": [
    {
     "ename": "TypeError",
     "evalue": "can only concatenate str (not \"int\") to str",
     "output_type": "error",
     "traceback": [
      "\u001b[1;31m---------------------------------------------------------------------------\u001b[0m",
      "\u001b[1;31mTypeError\u001b[0m                                 Traceback (most recent call last)",
      "\u001b[1;32m~\\AppData\\Local\\Temp/ipykernel_344/2277992325.py\u001b[0m in \u001b[0;36m<module>\u001b[1;34m\u001b[0m\n\u001b[1;32m----> 1\u001b[1;33m \u001b[0mprint\u001b[0m\u001b[1;33m(\u001b[0m\u001b[0mname1\u001b[0m \u001b[1;33m+\u001b[0m \u001b[0msum\u001b[0m\u001b[1;33m)\u001b[0m\u001b[1;33m\u001b[0m\u001b[1;33m\u001b[0m\u001b[0m\n\u001b[0m",
      "\u001b[1;31mTypeError\u001b[0m: can only concatenate str (not \"int\") to str"
     ]
    }
   ],
   "source": [
    "print(name1 + sum)"
   ]
  },
  {
   "cell_type": "code",
   "execution_count": 11,
   "id": "c349b57a",
   "metadata": {},
   "outputs": [
    {
     "data": {
      "text/plain": [
       "''"
      ]
     },
     "execution_count": 11,
     "metadata": {},
     "output_type": "execute_result"
    }
   ],
   "source": [
    "_"
   ]
  },
  {
   "cell_type": "code",
   "execution_count": 12,
   "id": "de86715a",
   "metadata": {},
   "outputs": [
    {
     "data": {
      "text/plain": [
       "6.25"
      ]
     },
     "execution_count": 12,
     "metadata": {},
     "output_type": "execute_result"
    }
   ],
   "source": [
    "50 / 8"
   ]
  },
  {
   "cell_type": "code",
   "execution_count": 13,
   "id": "76981c47",
   "metadata": {},
   "outputs": [
    {
     "data": {
      "text/plain": [
       "6.25"
      ]
     },
     "execution_count": 13,
     "metadata": {},
     "output_type": "execute_result"
    }
   ],
   "source": [
    "_"
   ]
  },
  {
   "cell_type": "markdown",
   "id": "dca27d8b",
   "metadata": {},
   "source": [
    "# Boolean Datatypes "
   ]
  },
  {
   "cell_type": "code",
   "execution_count": null,
   "id": "d8a22e4a",
   "metadata": {},
   "outputs": [],
   "source": [
    "num1 = True\n",
    "num2 = True\n",
    "num3 = False"
   ]
  },
  {
   "cell_type": "code",
   "execution_count": 14,
   "id": "ed4d78aa",
   "metadata": {},
   "outputs": [
    {
     "name": "stdout",
     "output_type": "stream",
     "text": [
      "Variable   Type    Data/Info\n",
      "----------------------------\n",
      "name1      str     Sheilla\n",
      "name2      str     Kemboi\n",
      "num1       int     67\n",
      "num2       int     78\n",
      "sum        int     112\n"
     ]
    }
   ],
   "source": [
    "%whos"
   ]
  },
  {
   "cell_type": "code",
   "execution_count": 15,
   "id": "4df1ab8a",
   "metadata": {},
   "outputs": [
    {
     "ename": "NameError",
     "evalue": "name 'bool1' is not defined",
     "output_type": "error",
     "traceback": [
      "\u001b[1;31m---------------------------------------------------------------------------\u001b[0m",
      "\u001b[1;31mNameError\u001b[0m                                 Traceback (most recent call last)",
      "\u001b[1;32m~\\AppData\\Local\\Temp/ipykernel_344/328228622.py\u001b[0m in \u001b[0;36m<module>\u001b[1;34m\u001b[0m\n\u001b[1;32m----> 1\u001b[1;33m \u001b[0mprint\u001b[0m\u001b[1;33m(\u001b[0m\u001b[0mbool1\u001b[0m \u001b[1;32mand\u001b[0m \u001b[0mbool2\u001b[0m\u001b[1;33m)\u001b[0m\u001b[1;33m\u001b[0m\u001b[1;33m\u001b[0m\u001b[0m\n\u001b[0m",
      "\u001b[1;31mNameError\u001b[0m: name 'bool1' is not defined"
     ]
    }
   ],
   "source": [
    "print(bool1 and bool2)"
   ]
  },
  {
   "cell_type": "code",
   "execution_count": 16,
   "id": "77e11b53",
   "metadata": {},
   "outputs": [
    {
     "name": "stdout",
     "output_type": "stream",
     "text": [
      "Variable   Type    Data/Info\n",
      "----------------------------\n",
      "name1      str     Sheilla\n",
      "name2      str     Kemboi\n",
      "num1       int     67\n",
      "num2       int     78\n",
      "sum        int     112\n"
     ]
    }
   ],
   "source": [
    "%whos"
   ]
  },
  {
   "cell_type": "code",
   "execution_count": 17,
   "id": "4e547589",
   "metadata": {},
   "outputs": [
    {
     "name": "stdout",
     "output_type": "stream",
     "text": [
      "<class 'int'>\n"
     ]
    }
   ],
   "source": [
    "print(type(num1))"
   ]
  },
  {
   "cell_type": "code",
   "execution_count": 18,
   "id": "ca976fc2",
   "metadata": {},
   "outputs": [
    {
     "name": "stdout",
     "output_type": "stream",
     "text": [
      "True\n"
     ]
    }
   ],
   "source": [
    "a = True\n",
    "print(a)"
   ]
  },
  {
   "cell_type": "code",
   "execution_count": 19,
   "id": "d3401f33",
   "metadata": {},
   "outputs": [
    {
     "name": "stdout",
     "output_type": "stream",
     "text": [
      "True\n",
      "True\n",
      "False\n",
      "False\n",
      "True\n"
     ]
    }
   ],
   "source": [
    "b = True\n",
    "c = False\n",
    "\n",
    "d = a and c\n",
    "e = a or c\n",
    "\n",
    "print(a)\n",
    "print(b)\n",
    "print(c)\n",
    "print(d)\n",
    "print(e)"
   ]
  },
  {
   "cell_type": "code",
   "execution_count": null,
   "id": "6c9a85d6",
   "metadata": {},
   "outputs": [],
   "source": [
    "a = 3.8\n",
    "b = 3"
   ]
  },
  {
   "cell_type": "code",
   "execution_count": 20,
   "id": "24ac1212",
   "metadata": {},
   "outputs": [
    {
     "name": "stdout",
     "output_type": "stream",
     "text": [
      "True\n"
     ]
    }
   ],
   "source": [
    "print(a == b)"
   ]
  },
  {
   "cell_type": "code",
   "execution_count": 21,
   "id": "316f52b1",
   "metadata": {},
   "outputs": [
    {
     "name": "stdout",
     "output_type": "stream",
     "text": [
      "False\n"
     ]
    }
   ],
   "source": [
    "print(a < b)"
   ]
  },
  {
   "cell_type": "code",
   "execution_count": 22,
   "id": "df554fd0",
   "metadata": {},
   "outputs": [
    {
     "name": "stdout",
     "output_type": "stream",
     "text": [
      "False\n"
     ]
    }
   ],
   "source": [
    "print(a > b)"
   ]
  },
  {
   "cell_type": "code",
   "execution_count": 23,
   "id": "d53a9fe5",
   "metadata": {},
   "outputs": [
    {
     "name": "stdout",
     "output_type": "stream",
     "text": [
      "True\n"
     ]
    }
   ],
   "source": [
    "print(a <= b)"
   ]
  },
  {
   "cell_type": "code",
   "execution_count": 24,
   "id": "9238f910",
   "metadata": {},
   "outputs": [
    {
     "name": "stdout",
     "output_type": "stream",
     "text": [
      "True\n"
     ]
    }
   ],
   "source": [
    "print(a >= b)"
   ]
  },
  {
   "cell_type": "code",
   "execution_count": 25,
   "id": "c82914a7",
   "metadata": {},
   "outputs": [
    {
     "data": {
      "text/plain": [
       "True"
      ]
     },
     "execution_count": 25,
     "metadata": {},
     "output_type": "execute_result"
    }
   ],
   "source": [
    "True or False and True"
   ]
  },
  {
   "cell_type": "code",
   "execution_count": 26,
   "id": "6c75058e",
   "metadata": {},
   "outputs": [
    {
     "data": {
      "text/plain": [
       "True"
      ]
     },
     "execution_count": 26,
     "metadata": {},
     "output_type": "execute_result"
    }
   ],
   "source": [
    "True and False or True"
   ]
  },
  {
   "cell_type": "code",
   "execution_count": 27,
   "id": "ab098704",
   "metadata": {},
   "outputs": [
    {
     "data": {
      "text/plain": [
       "False"
      ]
     },
     "execution_count": 27,
     "metadata": {},
     "output_type": "execute_result"
    }
   ],
   "source": [
    "False or False and True"
   ]
  },
  {
   "cell_type": "code",
   "execution_count": 28,
   "id": "8041e029",
   "metadata": {},
   "outputs": [
    {
     "data": {
      "text/plain": [
       "False"
      ]
     },
     "execution_count": 28,
     "metadata": {},
     "output_type": "execute_result"
    }
   ],
   "source": [
    "False and True or False"
   ]
  },
  {
   "cell_type": "code",
   "execution_count": 29,
   "id": "5b19b574",
   "metadata": {},
   "outputs": [
    {
     "data": {
      "text/plain": [
       "True"
      ]
     },
     "execution_count": 29,
     "metadata": {},
     "output_type": "execute_result"
    }
   ],
   "source": [
    "True or False and False"
   ]
  },
  {
   "cell_type": "code",
   "execution_count": 30,
   "id": "1fc3facb",
   "metadata": {},
   "outputs": [
    {
     "name": "stdout",
     "output_type": "stream",
     "text": [
      "False\n"
     ]
    }
   ],
   "source": [
    "print((not(2 != 3) and True) or (False and True))"
   ]
  },
  {
   "cell_type": "markdown",
   "id": "025b8fd5",
   "metadata": {},
   "source": [
    "# Useful Functions"
   ]
  },
  {
   "cell_type": "markdown",
   "id": "a004efac",
   "metadata": {},
   "source": [
    "## round() function"
   ]
  },
  {
   "cell_type": "code",
   "execution_count": 31,
   "id": "0f188e34",
   "metadata": {},
   "outputs": [
    {
     "data": {
      "text/plain": [
       "5"
      ]
     },
     "execution_count": 31,
     "metadata": {},
     "output_type": "execute_result"
    }
   ],
   "source": [
    "round(4.7)"
   ]
  },
  {
   "cell_type": "code",
   "execution_count": 32,
   "id": "e45ff6b8",
   "metadata": {},
   "outputs": [
    {
     "data": {
      "text/plain": [
       "4"
      ]
     },
     "execution_count": 32,
     "metadata": {},
     "output_type": "execute_result"
    }
   ],
   "source": [
    "round(4.1)"
   ]
  },
  {
   "cell_type": "code",
   "execution_count": 33,
   "id": "bc26bf58",
   "metadata": {},
   "outputs": [
    {
     "data": {
      "text/plain": [
       "5"
      ]
     },
     "execution_count": 33,
     "metadata": {},
     "output_type": "execute_result"
    }
   ],
   "source": [
    "round(4.55843)"
   ]
  },
  {
   "cell_type": "code",
   "execution_count": 34,
   "id": "8f5416a2",
   "metadata": {},
   "outputs": [
    {
     "data": {
      "text/plain": [
       "4.558"
      ]
     },
     "execution_count": 34,
     "metadata": {},
     "output_type": "execute_result"
    }
   ],
   "source": [
    "round(4.55843,3)"
   ]
  },
  {
   "cell_type": "code",
   "execution_count": 35,
   "id": "aa6fa025",
   "metadata": {},
   "outputs": [
    {
     "data": {
      "text/plain": [
       "4.6"
      ]
     },
     "execution_count": 35,
     "metadata": {},
     "output_type": "execute_result"
    }
   ],
   "source": [
    "round(4.55843,1)"
   ]
  },
  {
   "cell_type": "markdown",
   "id": "3ab4dc3f",
   "metadata": {},
   "source": [
    "## divmod(x, y) function"
   ]
  },
  {
   "cell_type": "code",
   "execution_count": 37,
   "id": "18654d9e",
   "metadata": {},
   "outputs": [
    {
     "name": "stdout",
     "output_type": "stream",
     "text": [
      "(5, 2)\n"
     ]
    }
   ],
   "source": [
    "print(divmod(27, 5))"
   ]
  },
  {
   "cell_type": "code",
   "execution_count": 38,
   "id": "e9dea90b",
   "metadata": {},
   "outputs": [
    {
     "name": "stdout",
     "output_type": "stream",
     "text": [
      "(4, 6)\n"
     ]
    }
   ],
   "source": [
    "x = print(divmod(34, 7))"
   ]
  },
  {
   "cell_type": "code",
   "execution_count": 39,
   "id": "502ea718",
   "metadata": {},
   "outputs": [
    {
     "ename": "TypeError",
     "evalue": "'NoneType' object is not subscriptable",
     "output_type": "error",
     "traceback": [
      "\u001b[1;31m---------------------------------------------------------------------------\u001b[0m",
      "\u001b[1;31mTypeError\u001b[0m                                 Traceback (most recent call last)",
      "\u001b[1;32m~\\AppData\\Local\\Temp/ipykernel_344/3629782281.py\u001b[0m in \u001b[0;36m<module>\u001b[1;34m\u001b[0m\n\u001b[1;32m----> 1\u001b[1;33m \u001b[0mx\u001b[0m\u001b[1;33m[\u001b[0m\u001b[1;36m0\u001b[0m\u001b[1;33m]\u001b[0m\u001b[1;33m\u001b[0m\u001b[1;33m\u001b[0m\u001b[0m\n\u001b[0m",
      "\u001b[1;31mTypeError\u001b[0m: 'NoneType' object is not subscriptable"
     ]
    }
   ],
   "source": [
    "x[0]"
   ]
  },
  {
   "cell_type": "code",
   "execution_count": 40,
   "id": "2ca5b9f0",
   "metadata": {},
   "outputs": [],
   "source": [
    "y = divmod(44, 6)"
   ]
  },
  {
   "cell_type": "code",
   "execution_count": 41,
   "id": "249a65fe",
   "metadata": {},
   "outputs": [
    {
     "name": "stdout",
     "output_type": "stream",
     "text": [
      "(7, 2)\n"
     ]
    }
   ],
   "source": [
    "print(y)"
   ]
  },
  {
   "cell_type": "code",
   "execution_count": 42,
   "id": "e3aed657",
   "metadata": {},
   "outputs": [
    {
     "data": {
      "text/plain": [
       "7"
      ]
     },
     "execution_count": 42,
     "metadata": {},
     "output_type": "execute_result"
    }
   ],
   "source": [
    "y[0]"
   ]
  },
  {
   "cell_type": "code",
   "execution_count": 43,
   "id": "4fcb8b13",
   "metadata": {},
   "outputs": [
    {
     "data": {
      "text/plain": [
       "2"
      ]
     },
     "execution_count": 43,
     "metadata": {},
     "output_type": "execute_result"
    }
   ],
   "source": [
    "y[1]"
   ]
  },
  {
   "cell_type": "code",
   "execution_count": 44,
   "id": "9607c21b",
   "metadata": {},
   "outputs": [
    {
     "ename": "IndexError",
     "evalue": "tuple index out of range",
     "output_type": "error",
     "traceback": [
      "\u001b[1;31m---------------------------------------------------------------------------\u001b[0m",
      "\u001b[1;31mIndexError\u001b[0m                                Traceback (most recent call last)",
      "\u001b[1;32m~\\AppData\\Local\\Temp/ipykernel_344/1506701620.py\u001b[0m in \u001b[0;36m<module>\u001b[1;34m\u001b[0m\n\u001b[1;32m----> 1\u001b[1;33m \u001b[0my\u001b[0m\u001b[1;33m[\u001b[0m\u001b[1;36m4\u001b[0m\u001b[1;33m]\u001b[0m\u001b[1;33m\u001b[0m\u001b[1;33m\u001b[0m\u001b[0m\n\u001b[0m",
      "\u001b[1;31mIndexError\u001b[0m: tuple index out of range"
     ]
    }
   ],
   "source": [
    "y[4]"
   ]
  },
  {
   "cell_type": "markdown",
   "id": "221c858a",
   "metadata": {},
   "source": [
    "## isinstance() function"
   ]
  },
  {
   "cell_type": "code",
   "execution_count": 47,
   "id": "5d2ea0ba",
   "metadata": {},
   "outputs": [
    {
     "data": {
      "text/plain": [
       "True"
      ]
     },
     "execution_count": 47,
     "metadata": {},
     "output_type": "execute_result"
    }
   ],
   "source": [
    "isinstance(3, int)"
   ]
  },
  {
   "cell_type": "code",
   "execution_count": 48,
   "id": "1f1311e8",
   "metadata": {},
   "outputs": [
    {
     "data": {
      "text/plain": [
       "False"
      ]
     },
     "execution_count": 48,
     "metadata": {},
     "output_type": "execute_result"
    }
   ],
   "source": [
    "isinstance(3.4, int)"
   ]
  },
  {
   "cell_type": "code",
   "execution_count": 49,
   "id": "457295fd",
   "metadata": {},
   "outputs": [
    {
     "data": {
      "text/plain": [
       "False"
      ]
     },
     "execution_count": 49,
     "metadata": {},
     "output_type": "execute_result"
    }
   ],
   "source": [
    "isinstance(3, float)"
   ]
  },
  {
   "cell_type": "code",
   "execution_count": 50,
   "id": "0afa77e4",
   "metadata": {},
   "outputs": [
    {
     "data": {
      "text/plain": [
       "True"
      ]
     },
     "execution_count": 50,
     "metadata": {},
     "output_type": "execute_result"
    }
   ],
   "source": [
    "isinstance(2 + 3j, (int, float, str, complex))"
   ]
  },
  {
   "cell_type": "markdown",
   "id": "26255e90",
   "metadata": {},
   "source": [
    "## pow() function"
   ]
  },
  {
   "cell_type": "code",
   "execution_count": 51,
   "id": "7d91eda6",
   "metadata": {},
   "outputs": [
    {
     "data": {
      "text/plain": [
       "2"
      ]
     },
     "execution_count": 51,
     "metadata": {},
     "output_type": "execute_result"
    }
   ],
   "source": [
    "# pow(x, y, z) => x pow y modulus z\n",
    "\n",
    "pow(2, 4, 7)"
   ]
  },
  {
   "cell_type": "markdown",
   "id": "a346fc8c",
   "metadata": {},
   "source": [
    "## input() function"
   ]
  },
  {
   "cell_type": "code",
   "execution_count": 52,
   "id": "74345635",
   "metadata": {},
   "outputs": [
    {
     "name": "stdout",
     "output_type": "stream",
     "text": [
      "Enter a number :: 345\n"
     ]
    }
   ],
   "source": [
    "num = input(\"Enter a number :: \")"
   ]
  },
  {
   "cell_type": "code",
   "execution_count": 53,
   "id": "08d2ee67",
   "metadata": {},
   "outputs": [
    {
     "data": {
      "text/plain": [
       "str"
      ]
     },
     "execution_count": 53,
     "metadata": {},
     "output_type": "execute_result"
    }
   ],
   "source": [
    "type(num)"
   ]
  },
  {
   "cell_type": "code",
   "execution_count": 54,
   "id": "1a13c844",
   "metadata": {},
   "outputs": [
    {
     "data": {
      "text/plain": [
       "345"
      ]
     },
     "execution_count": 54,
     "metadata": {},
     "output_type": "execute_result"
    }
   ],
   "source": [
    "int(num)"
   ]
  },
  {
   "cell_type": "code",
   "execution_count": 55,
   "id": "ee677e60",
   "metadata": {},
   "outputs": [
    {
     "data": {
      "text/plain": [
       "str"
      ]
     },
     "execution_count": 55,
     "metadata": {},
     "output_type": "execute_result"
    }
   ],
   "source": [
    "type(num)"
   ]
  },
  {
   "cell_type": "code",
   "execution_count": 56,
   "id": "4ab7343b",
   "metadata": {},
   "outputs": [
    {
     "name": "stdout",
     "output_type": "stream",
     "text": [
      "Enter a number :: 45\n"
     ]
    }
   ],
   "source": [
    "num2 = int(input(\"Enter a number :: \"))"
   ]
  },
  {
   "cell_type": "code",
   "execution_count": 57,
   "id": "dc7c0a5d",
   "metadata": {},
   "outputs": [
    {
     "data": {
      "text/plain": [
       "str"
      ]
     },
     "execution_count": 57,
     "metadata": {},
     "output_type": "execute_result"
    }
   ],
   "source": [
    "type(num)"
   ]
  },
  {
   "cell_type": "code",
   "execution_count": 58,
   "id": "94cd76c6",
   "metadata": {},
   "outputs": [
    {
     "data": {
      "text/plain": [
       "int"
      ]
     },
     "execution_count": 58,
     "metadata": {},
     "output_type": "execute_result"
    }
   ],
   "source": [
    "type(num2)"
   ]
  },
  {
   "cell_type": "code",
   "execution_count": 62,
   "id": "bfc9f879",
   "metadata": {},
   "outputs": [
    {
     "data": {
      "text/plain": [
       "int"
      ]
     },
     "execution_count": 62,
     "metadata": {},
     "output_type": "execute_result"
    }
   ],
   "source": [
    "type(num2)"
   ]
  },
  {
   "cell_type": "markdown",
   "id": "cd750701",
   "metadata": {},
   "source": [
    "# Statements"
   ]
  },
  {
   "cell_type": "markdown",
   "id": "4534abfd",
   "metadata": {},
   "source": [
    "## if condition"
   ]
  },
  {
   "cell_type": "code",
   "execution_count": 65,
   "id": "ec2a4175",
   "metadata": {},
   "outputs": [
    {
     "name": "stdout",
     "output_type": "stream",
     "text": [
      "Enter a number : 45\n",
      "Enter a number : 7\n",
      "a =  45\n",
      "45  is greater than  7\n"
     ]
    }
   ],
   "source": [
    "a = int(input(\"Enter a number : \"))\n",
    "b = int(input(\"Enter a number : \"))\n",
    "\n",
    "if a > b:\n",
    "    print(\"a = \", a)\n",
    "    print(a , \" is greater than \", b)    "
   ]
  },
  {
   "cell_type": "markdown",
   "id": "df8cb569",
   "metadata": {},
   "source": [
    "## if else condition"
   ]
  },
  {
   "cell_type": "code",
   "execution_count": 66,
   "id": "1ed400eb",
   "metadata": {},
   "outputs": [
    {
     "name": "stdout",
     "output_type": "stream",
     "text": [
      "Enter value 1 :: 23\n",
      "Enter value 2 :: 45\n",
      "Hey beautiful, you're too young to vote !\n"
     ]
    }
   ],
   "source": [
    "a = int(input(\"Enter value 1 :: \"))\n",
    "b = int(input(\"Enter value 2 :: \"))\n",
    "\n",
    "if a < b:\n",
    "    print(\"Hey beautiful, you're too young to vote !\")\n",
    "else:\n",
    "    print(\"Eligible age to vote , Go ahead !\")"
   ]
  },
  {
   "cell_type": "markdown",
   "id": "0c6538d8",
   "metadata": {},
   "source": [
    "## nested if condition"
   ]
  },
  {
   "cell_type": "code",
   "execution_count": 67,
   "id": "c4fce2a9",
   "metadata": {},
   "outputs": [
    {
     "name": "stdout",
     "output_type": "stream",
     "text": [
      "Age 1 = 45\n",
      "Age 2 = 2\n",
      "Older than required age\n",
      "Younger than required age\n"
     ]
    }
   ],
   "source": [
    "age = 18\n",
    "a = int(input(\"Age 1 = \"))\n",
    "b = int(input(\"Age 2 = \"))\n",
    "\n",
    "if a < age:\n",
    "    print(\"Younger than required age\")\n",
    "elif a > age:\n",
    "    print(\"Older than required age\")\n",
    "else:\n",
    "    print(\"Required age\")\n",
    "    \n",
    "    \n",
    "if b < age:\n",
    "    print(\"Younger than required age\")\n",
    "elif b > age:\n",
    "    print(\"Older than required age\")\n",
    "else:\n",
    "    print(\"Required age\")"
   ]
  },
  {
   "cell_type": "markdown",
   "id": "2f1b1b8b",
   "metadata": {},
   "source": [
    "# Loops"
   ]
  },
  {
   "cell_type": "markdown",
   "id": "df43139c",
   "metadata": {},
   "source": [
    "## while loop"
   ]
  },
  {
   "cell_type": "code",
   "execution_count": null,
   "id": "990ca786",
   "metadata": {},
   "outputs": [],
   "source": [
    "n = int(input(\"Enter the no. of iterations :: \"))\n",
    "\n",
    "i = 1\n",
    "\n",
    "while i <= n:\n",
    "    print(i, end = \" \")\n",
    "    i += 1"
   ]
  },
  {
   "cell_type": "code",
   "execution_count": null,
   "id": "041bf32c",
   "metadata": {},
   "outputs": [],
   "source": [
    "while i <= n:\n",
    "    \n",
    "    if i % 2 == 0:\n",
    "        print(i, \" = Even\")\n",
    "    else:\n",
    "        print(i, \" = Odd\")\n",
    "        \n",
    "    i += 1"
   ]
  },
  {
   "cell_type": "code",
   "execution_count": null,
   "id": "785f0819",
   "metadata": {},
   "outputs": [],
   "source": [
    "n = int(input(\"Number of iterations :: \"))\n",
    "i = 1 \n",
    "\n",
    "while i <= n:\n",
    "    \n",
    "    if i % 2 == 0:\n",
    "        print(i, \" = Even\")\n",
    "    else:\n",
    "        print(i, \" = Odd\")\n",
    "        \n",
    "    i += 1"
   ]
  },
  {
   "cell_type": "markdown",
   "id": "2464c16c",
   "metadata": {},
   "source": [
    "## for loop"
   ]
  },
  {
   "cell_type": "code",
   "execution_count": null,
   "id": "c9b4c7bf",
   "metadata": {},
   "outputs": [],
   "source": [
    "list = [2, 45, 67, 8, 24, 90, 56, 4, 12, 50]\n",
    "\n",
    "for i in range(10):\n",
    "#     print(i ** 2)\n",
    "    List.append(i ** 2)\n",
    "    \n",
    "print(list)"
   ]
  },
  {
   "cell_type": "code",
   "execution_count": null,
   "id": "93bc665e",
   "metadata": {},
   "outputs": [],
   "source": [
    "sum = 2 + 3\n",
    "print(sum)"
   ]
  },
  {
   "cell_type": "code",
   "execution_count": null,
   "id": "49f3eed3",
   "metadata": {},
   "outputs": [],
   "source": []
  }
 ],
 "metadata": {
  "kernelspec": {
   "display_name": "Python 3 (ipykernel)",
   "language": "python",
   "name": "python3"
  },
  "language_info": {
   "codemirror_mode": {
    "name": "ipython",
    "version": 3
   },
   "file_extension": ".py",
   "mimetype": "text/x-python",
   "name": "python",
   "nbconvert_exporter": "python",
   "pygments_lexer": "ipython3",
   "version": "3.9.7"
  }
 },
 "nbformat": 4,
 "nbformat_minor": 5
}
