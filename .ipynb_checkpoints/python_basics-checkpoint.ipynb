{
 "cells": [
  {
   "cell_type": "markdown",
   "id": "c88d5eaa",
   "metadata": {},
   "source": [
    "# Displaying Hello World"
   ]
  },
  {
   "cell_type": "code",
   "execution_count": 1,
   "id": "d9a68809",
   "metadata": {},
   "outputs": [
    {
     "name": "stdout",
     "output_type": "stream",
     "text": [
      "Hello World !\n"
     ]
    }
   ],
   "source": [
    "print(\"Hello World !\")"
   ]
  },
  {
   "cell_type": "markdown",
   "id": "34e7d2eb",
   "metadata": {},
   "source": [
    "# Variables And Operators"
   ]
  },
  {
   "cell_type": "code",
   "execution_count": 3,
   "id": "134ca1e6",
   "metadata": {},
   "outputs": [
    {
     "name": "stdout",
     "output_type": "stream",
     "text": [
      "67\n",
      "78\n",
      "112\n",
      "Variable   Type    Data/Info\n",
      "----------------------------\n",
      "num1       int     67\n",
      "num2       int     78\n",
      "sum        int     112\n"
     ]
    }
   ],
   "source": [
    "num1 = 34\n",
    "num2 = 78\n",
    "sum = num1 + num2\n",
    "num1 = 67\n",
    "print(num1)\n",
    "print(num2)\n",
    "print(sum)\n",
    "\n",
    "%whos\n"
   ]
  },
  {
   "cell_type": "code",
   "execution_count": 4,
   "id": "849ce877",
   "metadata": {},
   "outputs": [
    {
     "ename": "SyntaxError",
     "evalue": "invalid syntax (Temp/ipykernel_344/1575650200.py, line 1)",
     "output_type": "error",
     "traceback": [
      "\u001b[1;36m  File \u001b[1;32m\"C:\\Users\\user\\AppData\\Local\\Temp/ipykernel_344/1575650200.py\"\u001b[1;36m, line \u001b[1;32m1\u001b[0m\n\u001b[1;33m    print typeof(sum)\u001b[0m\n\u001b[1;37m          ^\u001b[0m\n\u001b[1;31mSyntaxError\u001b[0m\u001b[1;31m:\u001b[0m invalid syntax\n"
     ]
    }
   ],
   "source": [
    "print typeof(sum)"
   ]
  },
  {
   "cell_type": "code",
   "execution_count": 5,
   "id": "f79d3c6d",
   "metadata": {},
   "outputs": [
    {
     "name": "stdout",
     "output_type": "stream",
     "text": [
      "<class 'int'>\n"
     ]
    }
   ],
   "source": [
    "print ( type(sum))"
   ]
  },
  {
   "cell_type": "code",
   "execution_count": 6,
   "id": "8bb37039",
   "metadata": {},
   "outputs": [
    {
     "name": "stdout",
     "output_type": "stream",
     "text": [
      "SheillaKemboi\n"
     ]
    }
   ],
   "source": [
    "name1 = \"Sheilla\"\n",
    "name2 = \"Kemboi\"\n",
    "\n",
    "print(name1 + name2)"
   ]
  },
  {
   "cell_type": "code",
   "execution_count": 7,
   "id": "b3a198c2",
   "metadata": {},
   "outputs": [
    {
     "ename": "SyntaxError",
     "evalue": "invalid syntax (Temp/ipykernel_344/3004786597.py, line 1)",
     "output_type": "error",
     "traceback": [
      "\u001b[1;36m  File \u001b[1;32m\"C:\\Users\\user\\AppData\\Local\\Temp/ipykernel_344/3004786597.py\"\u001b[1;36m, line \u001b[1;32m1\u001b[0m\n\u001b[1;33m    print(name1 , \" \", + , \" \" , name2)\u001b[0m\n\u001b[1;37m                         ^\u001b[0m\n\u001b[1;31mSyntaxError\u001b[0m\u001b[1;31m:\u001b[0m invalid syntax\n"
     ]
    }
   ],
   "source": [
    "print(name1 , \" \", + , \" \" , name2)"
   ]
  },
  {
   "cell_type": "code",
   "execution_count": 8,
   "id": "290fca81",
   "metadata": {},
   "outputs": [
    {
     "name": "stdout",
     "output_type": "stream",
     "text": [
      "SheillaKemboi\n"
     ]
    }
   ],
   "source": [
    "print(name1 + name2)"
   ]
  },
  {
   "cell_type": "code",
   "execution_count": 9,
   "id": "f8393e00",
   "metadata": {},
   "outputs": [
    {
     "name": "stdout",
     "output_type": "stream",
     "text": [
      "Variable   Type    Data/Info\n",
      "----------------------------\n",
      "name1      str     Sheilla\n",
      "name2      str     Kemboi\n",
      "num1       int     67\n",
      "num2       int     78\n",
      "sum        int     112\n"
     ]
    }
   ],
   "source": [
    "%whos"
   ]
  },
  {
   "cell_type": "code",
   "execution_count": 10,
   "id": "45285758",
   "metadata": {},
   "outputs": [
    {
     "ename": "TypeError",
     "evalue": "can only concatenate str (not \"int\") to str",
     "output_type": "error",
     "traceback": [
      "\u001b[1;31m---------------------------------------------------------------------------\u001b[0m",
      "\u001b[1;31mTypeError\u001b[0m                                 Traceback (most recent call last)",
      "\u001b[1;32m~\\AppData\\Local\\Temp/ipykernel_344/2277992325.py\u001b[0m in \u001b[0;36m<module>\u001b[1;34m\u001b[0m\n\u001b[1;32m----> 1\u001b[1;33m \u001b[0mprint\u001b[0m\u001b[1;33m(\u001b[0m\u001b[0mname1\u001b[0m \u001b[1;33m+\u001b[0m \u001b[0msum\u001b[0m\u001b[1;33m)\u001b[0m\u001b[1;33m\u001b[0m\u001b[1;33m\u001b[0m\u001b[0m\n\u001b[0m",
      "\u001b[1;31mTypeError\u001b[0m: can only concatenate str (not \"int\") to str"
     ]
    }
   ],
   "source": [
    "print(name1 + sum)"
   ]
  },
  {
   "cell_type": "code",
   "execution_count": 11,
   "id": "2a7c99da",
   "metadata": {},
   "outputs": [
    {
     "data": {
      "text/plain": [
       "''"
      ]
     },
     "execution_count": 11,
     "metadata": {},
     "output_type": "execute_result"
    }
   ],
   "source": [
    "_"
   ]
  },
  {
   "cell_type": "code",
   "execution_count": 5,
   "id": "bcfb7acb",
   "metadata": {},
   "outputs": [
    {
     "data": {
      "text/plain": [
       "3.3333333333333335"
      ]
     },
     "execution_count": 5,
     "metadata": {},
     "output_type": "execute_result"
    }
   ],
   "source": [
    "10/3"
   ]
  },
  {
   "cell_type": "code",
   "execution_count": 6,
   "id": "e9f59073",
   "metadata": {},
   "outputs": [
    {
     "data": {
      "text/plain": [
       "3.3333333333333335"
      ]
     },
     "execution_count": 6,
     "metadata": {},
     "output_type": "execute_result"
    }
   ],
   "source": [
    "_"
   ]
  },
  {
   "cell_type": "markdown",
   "id": "26e562cd",
   "metadata": {},
   "source": [
    "# Boolean Datatypes "
   ]
  },
  {
   "cell_type": "code",
   "execution_count": null,
   "id": "966ad4f8",
   "metadata": {},
   "outputs": [],
   "source": [
    "num1 = True\n",
    "num2 = True\n",
    "num3 = False"
   ]
  },
  {
   "cell_type": "code",
   "execution_count": 14,
   "id": "0678b34e",
   "metadata": {},
   "outputs": [
    {
     "name": "stdout",
     "output_type": "stream",
     "text": [
      "Variable   Type    Data/Info\n",
      "----------------------------\n",
      "name1      str     Sheilla\n",
      "name2      str     Kemboi\n",
      "num1       int     67\n",
      "num2       int     78\n",
      "sum        int     112\n"
     ]
    }
   ],
   "source": [
    "%whos"
   ]
  },
  {
   "cell_type": "code",
   "execution_count": 15,
   "id": "a5fdbaa6",
   "metadata": {},
   "outputs": [
    {
     "ename": "NameError",
     "evalue": "name 'bool1' is not defined",
     "output_type": "error",
     "traceback": [
      "\u001b[1;31m---------------------------------------------------------------------------\u001b[0m",
      "\u001b[1;31mNameError\u001b[0m                                 Traceback (most recent call last)",
      "\u001b[1;32m~\\AppData\\Local\\Temp/ipykernel_344/328228622.py\u001b[0m in \u001b[0;36m<module>\u001b[1;34m\u001b[0m\n\u001b[1;32m----> 1\u001b[1;33m \u001b[0mprint\u001b[0m\u001b[1;33m(\u001b[0m\u001b[0mbool1\u001b[0m \u001b[1;32mand\u001b[0m \u001b[0mbool2\u001b[0m\u001b[1;33m)\u001b[0m\u001b[1;33m\u001b[0m\u001b[1;33m\u001b[0m\u001b[0m\n\u001b[0m",
      "\u001b[1;31mNameError\u001b[0m: name 'bool1' is not defined"
     ]
    }
   ],
   "source": [
    "print(bool1 and bool2)"
   ]
  },
  {
   "cell_type": "code",
   "execution_count": 16,
   "id": "8634fd32",
   "metadata": {},
   "outputs": [
    {
     "name": "stdout",
     "output_type": "stream",
     "text": [
      "Variable   Type    Data/Info\n",
      "----------------------------\n",
      "name1      str     Sheilla\n",
      "name2      str     Kemboi\n",
      "num1       int     67\n",
      "num2       int     78\n",
      "sum        int     112\n"
     ]
    }
   ],
   "source": [
    "%whos"
   ]
  },
  {
   "cell_type": "code",
   "execution_count": 17,
   "id": "9d06c889",
   "metadata": {},
   "outputs": [
    {
     "name": "stdout",
     "output_type": "stream",
     "text": [
      "<class 'int'>\n"
     ]
    }
   ],
   "source": [
    "print(type(num1))"
   ]
  },
  {
   "cell_type": "code",
   "execution_count": 18,
   "id": "65434d93",
   "metadata": {},
   "outputs": [
    {
     "name": "stdout",
     "output_type": "stream",
     "text": [
      "True\n"
     ]
    }
   ],
   "source": [
    "a = True\n",
    "print(a)"
   ]
  },
  {
   "cell_type": "code",
   "execution_count": 19,
   "id": "85bfb730",
   "metadata": {},
   "outputs": [
    {
     "name": "stdout",
     "output_type": "stream",
     "text": [
      "True\n",
      "True\n",
      "False\n",
      "False\n",
      "True\n"
     ]
    }
   ],
   "source": [
    "b = True\n",
    "c = False\n",
    "\n",
    "d = a and c\n",
    "e = a or c\n",
    "\n",
    "print(a)\n",
    "print(b)\n",
    "print(c)\n",
    "print(d)\n",
    "print(e)"
   ]
  },
  {
   "cell_type": "code",
   "execution_count": null,
   "id": "3ffd2856",
   "metadata": {},
   "outputs": [],
   "source": [
    "a = 3.8\n",
    "b = 3"
   ]
  },
  {
   "cell_type": "code",
   "execution_count": 20,
   "id": "f9e77022",
   "metadata": {},
   "outputs": [
    {
     "name": "stdout",
     "output_type": "stream",
     "text": [
      "True\n"
     ]
    }
   ],
   "source": [
    "print(a == b)"
   ]
  },
  {
   "cell_type": "code",
   "execution_count": 21,
   "id": "21bf0d2c",
   "metadata": {},
   "outputs": [
    {
     "name": "stdout",
     "output_type": "stream",
     "text": [
      "False\n"
     ]
    }
   ],
   "source": [
    "print(a < b)"
   ]
  },
  {
   "cell_type": "code",
   "execution_count": 22,
   "id": "8aec856e",
   "metadata": {},
   "outputs": [
    {
     "name": "stdout",
     "output_type": "stream",
     "text": [
      "False\n"
     ]
    }
   ],
   "source": [
    "print(a > b)"
   ]
  },
  {
   "cell_type": "code",
   "execution_count": 23,
   "id": "1bb24819",
   "metadata": {},
   "outputs": [
    {
     "name": "stdout",
     "output_type": "stream",
     "text": [
      "True\n"
     ]
    }
   ],
   "source": [
    "print(a <= b)"
   ]
  },
  {
   "cell_type": "code",
   "execution_count": 24,
   "id": "4c35ddd0",
   "metadata": {},
   "outputs": [
    {
     "name": "stdout",
     "output_type": "stream",
     "text": [
      "True\n"
     ]
    }
   ],
   "source": [
    "print(a >= b)"
   ]
  },
  {
   "cell_type": "code",
   "execution_count": 25,
   "id": "fa411557",
   "metadata": {},
   "outputs": [
    {
     "data": {
      "text/plain": [
       "True"
      ]
     },
     "execution_count": 25,
     "metadata": {},
     "output_type": "execute_result"
    }
   ],
   "source": [
    "True or False and True"
   ]
  },
  {
   "cell_type": "code",
   "execution_count": 26,
   "id": "725b1446",
   "metadata": {},
   "outputs": [
    {
     "data": {
      "text/plain": [
       "True"
      ]
     },
     "execution_count": 26,
     "metadata": {},
     "output_type": "execute_result"
    }
   ],
   "source": [
    "True and False or True"
   ]
  },
  {
   "cell_type": "code",
   "execution_count": 27,
   "id": "ee2a300e",
   "metadata": {},
   "outputs": [
    {
     "data": {
      "text/plain": [
       "False"
      ]
     },
     "execution_count": 27,
     "metadata": {},
     "output_type": "execute_result"
    }
   ],
   "source": [
    "False or False and True"
   ]
  },
  {
   "cell_type": "code",
   "execution_count": 28,
   "id": "ef3b1782",
   "metadata": {},
   "outputs": [
    {
     "data": {
      "text/plain": [
       "False"
      ]
     },
     "execution_count": 28,
     "metadata": {},
     "output_type": "execute_result"
    }
   ],
   "source": [
    "False and True or False"
   ]
  },
  {
   "cell_type": "code",
   "execution_count": 29,
   "id": "182cfee3",
   "metadata": {},
   "outputs": [
    {
     "data": {
      "text/plain": [
       "True"
      ]
     },
     "execution_count": 29,
     "metadata": {},
     "output_type": "execute_result"
    }
   ],
   "source": [
    "True or False and False"
   ]
  },
  {
   "cell_type": "code",
   "execution_count": 30,
   "id": "b48df03d",
   "metadata": {},
   "outputs": [
    {
     "name": "stdout",
     "output_type": "stream",
     "text": [
      "False\n"
     ]
    }
   ],
   "source": [
    "print((not(2 != 3) and True) or (False and True))"
   ]
  },
  {
   "cell_type": "markdown",
   "id": "8cf899a2",
   "metadata": {},
   "source": [
    "# Useful Functions"
   ]
  },
  {
   "cell_type": "markdown",
   "id": "2c159290",
   "metadata": {},
   "source": [
    "## round() function"
   ]
  },
  {
   "cell_type": "code",
   "execution_count": 31,
   "id": "5e6b233d",
   "metadata": {},
   "outputs": [
    {
     "data": {
      "text/plain": [
       "5"
      ]
     },
     "execution_count": 31,
     "metadata": {},
     "output_type": "execute_result"
    }
   ],
   "source": [
    "round(4.7)"
   ]
  },
  {
   "cell_type": "code",
   "execution_count": 32,
   "id": "cb5ecd88",
   "metadata": {},
   "outputs": [
    {
     "data": {
      "text/plain": [
       "4"
      ]
     },
     "execution_count": 32,
     "metadata": {},
     "output_type": "execute_result"
    }
   ],
   "source": [
    "round(4.1)"
   ]
  },
  {
   "cell_type": "code",
   "execution_count": 33,
   "id": "71fa3238",
   "metadata": {},
   "outputs": [
    {
     "data": {
      "text/plain": [
       "5"
      ]
     },
     "execution_count": 33,
     "metadata": {},
     "output_type": "execute_result"
    }
   ],
   "source": [
    "round(4.55843)"
   ]
  },
  {
   "cell_type": "code",
   "execution_count": 34,
   "id": "cb01dd2a",
   "metadata": {},
   "outputs": [
    {
     "data": {
      "text/plain": [
       "4.558"
      ]
     },
     "execution_count": 34,
     "metadata": {},
     "output_type": "execute_result"
    }
   ],
   "source": [
    "round(4.55843,3)"
   ]
  },
  {
   "cell_type": "code",
   "execution_count": 35,
   "id": "d95f0a7d",
   "metadata": {},
   "outputs": [
    {
     "data": {
      "text/plain": [
       "4.6"
      ]
     },
     "execution_count": 35,
     "metadata": {},
     "output_type": "execute_result"
    }
   ],
   "source": [
    "round(4.55843,1)"
   ]
  },
  {
   "cell_type": "markdown",
   "id": "478653d0",
   "metadata": {},
   "source": [
    "## divmod(x, y) function"
   ]
  },
  {
   "cell_type": "code",
   "execution_count": 7,
   "id": "9b88cd5d",
   "metadata": {},
   "outputs": [
    {
     "name": "stdout",
     "output_type": "stream",
     "text": [
      "(3, 1)\n"
     ]
    }
   ],
   "source": [
    "print(divmod(10, 3))"
   ]
  },
  {
   "cell_type": "code",
   "execution_count": 38,
   "id": "233db061",
   "metadata": {},
   "outputs": [
    {
     "name": "stdout",
     "output_type": "stream",
     "text": [
      "(4, 6)\n"
     ]
    }
   ],
   "source": [
    "x = print(divmod(34, 7))"
   ]
  },
  {
   "cell_type": "code",
   "execution_count": 39,
   "id": "55e2b05c",
   "metadata": {},
   "outputs": [
    {
     "ename": "TypeError",
     "evalue": "'NoneType' object is not subscriptable",
     "output_type": "error",
     "traceback": [
      "\u001b[1;31m---------------------------------------------------------------------------\u001b[0m",
      "\u001b[1;31mTypeError\u001b[0m                                 Traceback (most recent call last)",
      "\u001b[1;32m~\\AppData\\Local\\Temp/ipykernel_344/3629782281.py\u001b[0m in \u001b[0;36m<module>\u001b[1;34m\u001b[0m\n\u001b[1;32m----> 1\u001b[1;33m \u001b[0mx\u001b[0m\u001b[1;33m[\u001b[0m\u001b[1;36m0\u001b[0m\u001b[1;33m]\u001b[0m\u001b[1;33m\u001b[0m\u001b[1;33m\u001b[0m\u001b[0m\n\u001b[0m",
      "\u001b[1;31mTypeError\u001b[0m: 'NoneType' object is not subscriptable"
     ]
    }
   ],
   "source": [
    "x[0]"
   ]
  },
  {
   "cell_type": "code",
   "execution_count": 8,
   "id": "ca48831c",
   "metadata": {},
   "outputs": [
    {
     "data": {
      "text/plain": [
       "tuple"
      ]
     },
     "execution_count": 8,
     "metadata": {},
     "output_type": "execute_result"
    }
   ],
   "source": [
    "type(divmod(44, 6))"
   ]
  },
  {
   "cell_type": "code",
   "execution_count": 41,
   "id": "db048043",
   "metadata": {},
   "outputs": [
    {
     "name": "stdout",
     "output_type": "stream",
     "text": [
      "(7, 2)\n"
     ]
    }
   ],
   "source": [
    "print(y)"
   ]
  },
  {
   "cell_type": "code",
   "execution_count": 42,
   "id": "7121266f",
   "metadata": {},
   "outputs": [
    {
     "data": {
      "text/plain": [
       "7"
      ]
     },
     "execution_count": 42,
     "metadata": {},
     "output_type": "execute_result"
    }
   ],
   "source": [
    "y[0]"
   ]
  },
  {
   "cell_type": "code",
   "execution_count": 43,
   "id": "09284a5f",
   "metadata": {},
   "outputs": [
    {
     "data": {
      "text/plain": [
       "2"
      ]
     },
     "execution_count": 43,
     "metadata": {},
     "output_type": "execute_result"
    }
   ],
   "source": [
    "y[1]"
   ]
  },
  {
   "cell_type": "code",
   "execution_count": 44,
   "id": "7f64c736",
   "metadata": {},
   "outputs": [
    {
     "ename": "IndexError",
     "evalue": "tuple index out of range",
     "output_type": "error",
     "traceback": [
      "\u001b[1;31m---------------------------------------------------------------------------\u001b[0m",
      "\u001b[1;31mIndexError\u001b[0m                                Traceback (most recent call last)",
      "\u001b[1;32m~\\AppData\\Local\\Temp/ipykernel_344/1506701620.py\u001b[0m in \u001b[0;36m<module>\u001b[1;34m\u001b[0m\n\u001b[1;32m----> 1\u001b[1;33m \u001b[0my\u001b[0m\u001b[1;33m[\u001b[0m\u001b[1;36m4\u001b[0m\u001b[1;33m]\u001b[0m\u001b[1;33m\u001b[0m\u001b[1;33m\u001b[0m\u001b[0m\n\u001b[0m",
      "\u001b[1;31mIndexError\u001b[0m: tuple index out of range"
     ]
    }
   ],
   "source": [
    "y[4]"
   ]
  },
  {
   "cell_type": "markdown",
   "id": "c254d4bd",
   "metadata": {},
   "source": [
    "## isinstance() function"
   ]
  },
  {
   "cell_type": "code",
   "execution_count": 47,
   "id": "2db600ea",
   "metadata": {},
   "outputs": [
    {
     "data": {
      "text/plain": [
       "True"
      ]
     },
     "execution_count": 47,
     "metadata": {},
     "output_type": "execute_result"
    }
   ],
   "source": [
    "isinstance(3, int)"
   ]
  },
  {
   "cell_type": "code",
   "execution_count": 48,
   "id": "45a5b311",
   "metadata": {},
   "outputs": [
    {
     "data": {
      "text/plain": [
       "False"
      ]
     },
     "execution_count": 48,
     "metadata": {},
     "output_type": "execute_result"
    }
   ],
   "source": [
    "isinstance(3.4, int)"
   ]
  },
  {
   "cell_type": "code",
   "execution_count": 49,
   "id": "0489723d",
   "metadata": {},
   "outputs": [
    {
     "data": {
      "text/plain": [
       "False"
      ]
     },
     "execution_count": 49,
     "metadata": {},
     "output_type": "execute_result"
    }
   ],
   "source": [
    "isinstance(3, float)"
   ]
  },
  {
   "cell_type": "code",
   "execution_count": 11,
   "id": "ca2a1bc0",
   "metadata": {},
   "outputs": [
    {
     "data": {
      "text/plain": [
       "True"
      ]
     },
     "execution_count": 11,
     "metadata": {},
     "output_type": "execute_result"
    }
   ],
   "source": [
    "isinstance(2 + 3j, (int, float, str, complex))"
   ]
  },
  {
   "cell_type": "markdown",
   "id": "fec0de2c",
   "metadata": {},
   "source": [
    "## pow() function"
   ]
  },
  {
   "cell_type": "code",
   "execution_count": 51,
   "id": "8ed4a595",
   "metadata": {},
   "outputs": [
    {
     "data": {
      "text/plain": [
       "2"
      ]
     },
     "execution_count": 51,
     "metadata": {},
     "output_type": "execute_result"
    }
   ],
   "source": [
    "# pow(x, y, z) => x pow y modulus z\n",
    "\n",
    "pow(2, 4, 7)"
   ]
  },
  {
   "cell_type": "markdown",
   "id": "079c2b40",
   "metadata": {},
   "source": [
    "## input() function"
   ]
  },
  {
   "cell_type": "code",
   "execution_count": 13,
   "id": "722b4222",
   "metadata": {},
   "outputs": [
    {
     "name": "stdout",
     "output_type": "stream",
     "text": [
      "Enter a number :: 55\n",
      "Number is: 55\n"
     ]
    }
   ],
   "source": [
    "num = input(\"Enter a number :: \")\n",
    "print('Number is:',num)"
   ]
  },
  {
   "cell_type": "code",
   "execution_count": 15,
   "id": "70a2425b",
   "metadata": {},
   "outputs": [
    {
     "name": "stdout",
     "output_type": "stream",
     "text": [
      "enter value 1:19\n",
      "enter value 3:12\n",
      "31\n"
     ]
    }
   ],
   "source": [
    "num2=input(\"enter value 1:\")\n",
    "num3=input(\"enter value 3:\")\n",
    "sum= int(num2)+int(num3)\n",
    "print(sum)"
   ]
  },
  {
   "cell_type": "code",
   "execution_count": 53,
   "id": "31b05a05",
   "metadata": {},
   "outputs": [
    {
     "data": {
      "text/plain": [
       "str"
      ]
     },
     "execution_count": 53,
     "metadata": {},
     "output_type": "execute_result"
    }
   ],
   "source": [
    "type(num)"
   ]
  },
  {
   "cell_type": "code",
   "execution_count": 54,
   "id": "d168a6f6",
   "metadata": {},
   "outputs": [
    {
     "data": {
      "text/plain": [
       "345"
      ]
     },
     "execution_count": 54,
     "metadata": {},
     "output_type": "execute_result"
    }
   ],
   "source": [
    "int(num)"
   ]
  },
  {
   "cell_type": "code",
   "execution_count": 55,
   "id": "9c3ef1bd",
   "metadata": {},
   "outputs": [
    {
     "data": {
      "text/plain": [
       "str"
      ]
     },
     "execution_count": 55,
     "metadata": {},
     "output_type": "execute_result"
    }
   ],
   "source": [
    "type(num)"
   ]
  },
  {
   "cell_type": "code",
   "execution_count": 56,
   "id": "2da3676c",
   "metadata": {},
   "outputs": [
    {
     "name": "stdout",
     "output_type": "stream",
     "text": [
      "Enter a number :: 45\n"
     ]
    }
   ],
   "source": [
    "num2 = int(input(\"Enter a number :: \"))"
   ]
  },
  {
   "cell_type": "code",
   "execution_count": 57,
   "id": "2afd4b80",
   "metadata": {},
   "outputs": [
    {
     "data": {
      "text/plain": [
       "str"
      ]
     },
     "execution_count": 57,
     "metadata": {},
     "output_type": "execute_result"
    }
   ],
   "source": [
    "type(num)"
   ]
  },
  {
   "cell_type": "code",
   "execution_count": 58,
   "id": "9cd97ee0",
   "metadata": {},
   "outputs": [
    {
     "data": {
      "text/plain": [
       "int"
      ]
     },
     "execution_count": 58,
     "metadata": {},
     "output_type": "execute_result"
    }
   ],
   "source": [
    "type(num2)"
   ]
  },
  {
   "cell_type": "code",
   "execution_count": 62,
   "id": "55209fc6",
   "metadata": {},
   "outputs": [
    {
     "data": {
      "text/plain": [
       "int"
      ]
     },
     "execution_count": 62,
     "metadata": {},
     "output_type": "execute_result"
    }
   ],
   "source": [
    "type(num2)"
   ]
  },
  {
   "cell_type": "markdown",
   "id": "19b59ec8",
   "metadata": {},
   "source": [
    "# Statements"
   ]
  },
  {
   "cell_type": "markdown",
   "id": "606bcb58",
   "metadata": {},
   "source": [
    "## if condition"
   ]
  },
  {
   "cell_type": "code",
   "execution_count": 17,
   "id": "f3a13ee1",
   "metadata": {},
   "outputs": [
    {
     "name": "stdout",
     "output_type": "stream",
     "text": [
      "Enter a number : 7\n",
      "Enter a number : 9\n",
      "9 is greater\n"
     ]
    }
   ],
   "source": [
    "a = int(input(\"Enter a number : \"))\n",
    "b = int(input(\"Enter a number : \"))\n",
    "\n",
    "if a>b:\n",
    "    print(a,'is greater')\n",
    "else:\n",
    "    print(b,'is greater')"
   ]
  },
  {
   "cell_type": "markdown",
   "id": "e5f6c31a",
   "metadata": {},
   "source": [
    "## if else condition"
   ]
  },
  {
   "cell_type": "code",
   "execution_count": 66,
   "id": "107446bd",
   "metadata": {},
   "outputs": [
    {
     "name": "stdout",
     "output_type": "stream",
     "text": [
      "Enter value 1 :: 23\n",
      "Enter value 2 :: 45\n",
      "Hey beautiful, you're too young to vote !\n"
     ]
    }
   ],
   "source": [
    "a = int(input(\"Enter value 1 :: \"))\n",
    "b = int(input(\"Enter value 2 :: \"))\n",
    "\n",
    "if a < b:\n",
    "    print(\"Hey beautiful, you're too young to vote !\")\n",
    "else:\n",
    "    print(\"Eligible age to vote , Go ahead !\")"
   ]
  },
  {
   "cell_type": "markdown",
   "id": "eadb4707",
   "metadata": {},
   "source": [
    "## nested if condition"
   ]
  },
  {
   "cell_type": "code",
   "execution_count": 19,
   "id": "6759f0f5",
   "metadata": {},
   "outputs": [
    {
     "name": "stdout",
     "output_type": "stream",
     "text": [
      "Age 1 = 18\n",
      "Age 2 = 1\n",
      "Required age\n",
      "Younger than required age\n"
     ]
    }
   ],
   "source": [
    "age = 18\n",
    "a = int(input(\"Age 1 = \"))\n",
    "b = int(input(\"Age 2 = \"))\n",
    "\n",
    "if a < age:\n",
    "    print(\"Younger than required age\")\n",
    "elif a > age:\n",
    "    print(\"Older than required age\")\n",
    "else:\n",
    "    print(\"Required age\")\n",
    "    \n",
    "    \n",
    "if b < age:\n",
    "    print(\"Younger than required age\")\n",
    "elif b > age:\n",
    "    print(\"Older than required age\")\n",
    "else:\n",
    "    print(\"Required age\")"
   ]
  },
  {
   "cell_type": "markdown",
   "id": "00cf93ee",
   "metadata": {},
   "source": [
    "# Loops"
   ]
  },
  {
   "cell_type": "markdown",
   "id": "0d312192",
   "metadata": {},
   "source": [
    "## while loop"
   ]
  },
  {
   "cell_type": "code",
   "execution_count": 83,
   "id": "0b8e315b",
   "metadata": {},
   "outputs": [
    {
     "name": "stdout",
     "output_type": "stream",
     "text": [
      "Enter the no. of iterations :: 2\n",
      "1 2 "
     ]
    }
   ],
   "source": [
    "n = int(input(\"Enter the no. of iterations :: \"))\n",
    "\n",
    "i = 1\n",
    "\n",
    "while i <= n:\n",
    "    print(i, end = \" \")\n",
    "    i += 1"
   ]
  },
  {
   "cell_type": "code",
   "execution_count": 24,
   "id": "00fa669b",
   "metadata": {},
   "outputs": [
    {
     "name": "stdout",
     "output_type": "stream",
     "text": [
      "5\n",
      "6\n",
      "7\n",
      "8\n",
      "9\n"
     ]
    }
   ],
   "source": [
    "n=5\n",
    "while n<10:\n",
    "    print(n)\n",
    "    n+=1"
   ]
  },
  {
   "cell_type": "code",
   "execution_count": 25,
   "id": "563d8194",
   "metadata": {},
   "outputs": [
    {
     "name": "stdout",
     "output_type": "stream",
     "text": [
      "Number of iterations :: 5\n",
      "1  = Odd\n",
      "2  = Even\n",
      "3  = Odd\n",
      "4  = Even\n",
      "5  = Odd\n"
     ]
    }
   ],
   "source": [
    "n = int(input(\"Number of iterations :: \"))\n",
    "i = 1 \n",
    "\n",
    "while i <= n:\n",
    "    \n",
    "    if i % 2 == 0:\n",
    "        print(i, \" = Even\")\n",
    "    else:\n",
    "        print(i, \" = Odd\")\n",
    "        \n",
    "    i += 1"
   ]
  },
  {
   "cell_type": "markdown",
   "id": "a452d47b",
   "metadata": {},
   "source": [
    "## for loop"
   ]
  },
  {
   "cell_type": "code",
   "execution_count": 28,
   "id": "1e07c36c",
   "metadata": {},
   "outputs": [
    {
     "data": {
      "text/plain": [
       "[0, 2, 4, 6, 8, 10, 12, 14, 16, 18]"
      ]
     },
     "execution_count": 28,
     "metadata": {},
     "output_type": "execute_result"
    }
   ],
   "source": [
    "even=list(range(0,20,2))\n",
    "even"
   ]
  },
  {
   "cell_type": "code",
   "execution_count": 89,
   "id": "eaa186ad",
   "metadata": {},
   "outputs": [
    {
     "name": "stdout",
     "output_type": "stream",
     "text": [
      "[0, 4, 16, 36, 64, 100, 144, 196, 256, 324]\n"
     ]
    }
   ],
   "source": [
    "list = []\n",
    "\n",
    "for i in range(0, 20, 2):\n",
    "#     print(i, end = \" \")\n",
    "    list.append(i ** 2)\n",
    "    \n",
    "print(list)\n"
   ]
  },
  {
   "cell_type": "code",
   "execution_count": 94,
   "id": "99fd8dff",
   "metadata": {},
   "outputs": [
    {
     "name": "stdout",
     "output_type": "stream",
     "text": [
      "34 cherry pine 6 orange 9 \n",
      "\n",
      "End of loop\n"
     ]
    }
   ],
   "source": [
    "set = {\"cherry\", \"pine\", \"orange\", 9, 6, 34}\n",
    "\n",
    "for i in set:\n",
    "    print(i , end = \" \")\n",
    "else:\n",
    "    print(\"\\n\\nEnd of loop\")"
   ]
  },
  {
   "cell_type": "code",
   "execution_count": 96,
   "id": "463b4f43",
   "metadata": {},
   "outputs": [
    {
     "name": "stdout",
     "output_type": "stream",
     "text": [
      "apple 22\n",
      "cherry 45\n",
      "pine 12\n",
      "orange 90\n"
     ]
    }
   ],
   "source": [
    "dict = {\"apple\":22 , \"cherry\":45, \"pine\":12, \"orange\":90}\n",
    "\n",
    "for i in dict:\n",
    "    #print the key = i as well as the value of that key = dict[i]\n",
    "    print(i, dict[i])"
   ]
  },
  {
   "cell_type": "markdown",
   "id": "17e9dcc4",
   "metadata": {},
   "source": [
    "##### Given a list of numbers [1, 2, 4, -5, 7, 9, 3, 2] => make an ascending list [-5, 1, 2,2, 3, 3, 3, 7, 9]"
   ]
  },
  {
   "cell_type": "code",
   "execution_count": 104,
   "id": "3c0781f6",
   "metadata": {},
   "outputs": [
    {
     "name": "stdout",
     "output_type": "stream",
     "text": [
      "[-5, 1, 2, 2, 3, 4, 7, 9]\n"
     ]
    }
   ],
   "source": [
    "list = [1, 2, 4, -5, 7, 9, 3, 2]\n",
    "for j in range(len(list)):\n",
    "\n",
    "    min = list[j]\n",
    "    min_index = j\n",
    "    c = j\n",
    "\n",
    "    for i in range(j, len(list)):\n",
    "        if list[i] < min:\n",
    "            min = list[i]\n",
    "            min_index = c\n",
    "        c += 1\n",
    "\n",
    "    temp = list[j]\n",
    "    list[j] = min\n",
    "    list[min_index] = temp\n",
    "\n",
    "print(list)\n",
    "        "
   ]
  },
  {
   "cell_type": "markdown",
   "id": "1fc914b9",
   "metadata": {},
   "source": [
    "# Functions"
   ]
  },
  {
   "cell_type": "code",
   "execution_count": 29,
   "id": "f16a0374",
   "metadata": {},
   "outputs": [
    {
     "data": {
      "text/plain": [
       "'The function prints a string message entered by user'"
      ]
     },
     "execution_count": 29,
     "metadata": {},
     "output_type": "execute_result"
    }
   ],
   "source": [
    "def printMsg(msg):\n",
    "    \"\"\"The function prints a string message entered by user\"\"\"\n",
    "    if isinstance(msg, str):\n",
    "        print(msg)\n",
    "    else:\n",
    "        print(\"The input is not a string\")\n",
    "printMsg.__doc__        "
   ]
  },
  {
   "cell_type": "code",
   "execution_count": 122,
   "id": "98e09e11",
   "metadata": {},
   "outputs": [
    {
     "name": "stdout",
     "output_type": "stream",
     "text": [
      "Sheilla\n"
     ]
    }
   ],
   "source": [
    "message = \"Sheilla\"\n",
    "\n",
    "printMsg(message)"
   ]
  },
  {
   "cell_type": "code",
   "execution_count": 123,
   "id": "2ba5c354",
   "metadata": {},
   "outputs": [
    {
     "name": "stdout",
     "output_type": "stream",
     "text": [
      "Sheilla\n"
     ]
    }
   ],
   "source": [
    "printMsg(\"Sheilla\")"
   ]
  },
  {
   "cell_type": "code",
   "execution_count": 124,
   "id": "4c098f87",
   "metadata": {},
   "outputs": [
    {
     "name": "stdout",
     "output_type": "stream",
     "text": [
      "The input is not a string\n"
     ]
    }
   ],
   "source": [
    "printMsg(45)"
   ]
  },
  {
   "cell_type": "code",
   "execution_count": 30,
   "id": "a6fd8103",
   "metadata": {},
   "outputs": [],
   "source": [
    "def func(a, b, c):\n",
    "    pass\n",
    "    \n",
    "a = 36\n",
    "b = 90\n",
    "c = 34\n",
    "\n",
    "func(a, b, c)\n"
   ]
  },
  {
   "cell_type": "code",
   "execution_count": 126,
   "id": "8156315c",
   "metadata": {},
   "outputs": [],
   "source": [
    "def total(x, y):\n",
    "    sum = x + y\n",
    "    return sum"
   ]
  },
  {
   "cell_type": "code",
   "execution_count": 128,
   "id": "4095a80f",
   "metadata": {},
   "outputs": [
    {
     "name": "stdout",
     "output_type": "stream",
     "text": [
      "123\n"
     ]
    }
   ],
   "source": [
    "value = total(56, 67)\n",
    "print(value)"
   ]
  },
  {
   "cell_type": "markdown",
   "id": "90bd55f4",
   "metadata": {},
   "source": [
    "### functions with many parameters"
   ]
  },
  {
   "cell_type": "code",
   "execution_count": 137,
   "id": "d4ed3e7f",
   "metadata": {},
   "outputs": [],
   "source": [
    "def power_function(*args):\n",
    "    power = 0\n",
    "    for i in  range(len(args)):\n",
    "        power = args[i] ** 2\n",
    "        print(power, end = \" \")"
   ]
  },
  {
   "cell_type": "code",
   "execution_count": 138,
   "id": "9943e653",
   "metadata": {},
   "outputs": [
    {
     "name": "stdout",
     "output_type": "stream",
     "text": [
      "4 16 36 64 "
     ]
    }
   ],
   "source": [
    "power_function(2, 4, 6, 8)"
   ]
  },
  {
   "cell_type": "markdown",
   "id": "7dedd04d",
   "metadata": {},
   "source": [
    "### functions with keys"
   ]
  },
  {
   "cell_type": "code",
   "execution_count": 142,
   "id": "9bfde53a",
   "metadata": {},
   "outputs": [
    {
     "name": "stdout",
     "output_type": "stream",
     "text": [
      "Variable Name ::  a  Value ::  3\n",
      "Variable Name ::  b  Value ::  B\n",
      "Variable Name ::  c  Value ::  45\n",
      "Variable Name ::  d  Value ::  89\n"
     ]
    }
   ],
   "source": [
    "def my_function(**args):\n",
    "    for i in args:\n",
    "        print(\"Variable Name :: \", i, \" Value :: \", args[i])\n",
    "        \n",
    "        \n",
    "my_function(a = 3, b = \"B\", c = 45, d = 89)"
   ]
  },
  {
   "cell_type": "markdown",
   "id": "06286d26",
   "metadata": {},
   "source": [
    "# Modules"
   ]
  },
  {
   "cell_type": "code",
   "execution_count": 143,
   "id": "50dee1d9",
   "metadata": {},
   "outputs": [],
   "source": [
    "#Python files containing codes that can be imported as a package for use\n",
    "#It contains functions that are repeatedly used\n",
    "\n",
    "#You have to specify the path where that specific module lies = use sys"
   ]
  },
  {
   "cell_type": "code",
   "execution_count": 144,
   "id": "1b317751",
   "metadata": {},
   "outputs": [],
   "source": [
    "import sys\n",
    "sys.path.append('S:/MODULES/')\n",
    "import Modules"
   ]
  },
  {
   "cell_type": "code",
   "execution_count": 146,
   "id": "e244226d",
   "metadata": {},
   "outputs": [
    {
     "data": {
      "text/plain": [
       "55"
      ]
     },
     "execution_count": 146,
     "metadata": {},
     "output_type": "execute_result"
    }
   ],
   "source": [
    "Modules.addAllNumbers(1, 2, 3, 4, 5, 6, 7, 8, 9, 10)"
   ]
  },
  {
   "cell_type": "code",
   "execution_count": 147,
   "id": "b768ed70",
   "metadata": {},
   "outputs": [
    {
     "name": "stdout",
     "output_type": "stream",
     "text": [
      "Hello World!\n"
     ]
    }
   ],
   "source": [
    "Modules.hello()"
   ]
  },
  {
   "cell_type": "code",
   "execution_count": 155,
   "id": "b9b49693",
   "metadata": {},
   "outputs": [
    {
     "ename": "NameError",
     "evalue": "name 'x' is not defined",
     "output_type": "error",
     "traceback": [
      "\u001b[1;31m---------------------------------------------------------------------------\u001b[0m",
      "\u001b[1;31mNameError\u001b[0m                                 Traceback (most recent call last)",
      "\u001b[1;32m~\\AppData\\Local\\Temp/ipykernel_344/3760707397.py\u001b[0m in \u001b[0;36m<module>\u001b[1;34m\u001b[0m\n\u001b[1;32m----> 1\u001b[1;33m \u001b[0mModules\u001b[0m\u001b[1;33m.\u001b[0m\u001b[0misNotNumeric\u001b[0m\u001b[1;33m(\u001b[0m\u001b[1;36m1\u001b[0m\u001b[1;33m,\u001b[0m \u001b[1;36m5\u001b[0m\u001b[1;33m,\u001b[0m \u001b[1;36m7\u001b[0m\u001b[1;33m)\u001b[0m\u001b[1;33m\u001b[0m\u001b[1;33m\u001b[0m\u001b[0m\n\u001b[0m",
      "\u001b[1;32mS:\\MODULES\\Modules.py\u001b[0m in \u001b[0;36misNotNumeric\u001b[1;34m(*args)\u001b[0m\n\u001b[0;32m     17\u001b[0m     \u001b[0mreturnValue\u001b[0m \u001b[1;33m=\u001b[0m \u001b[1;32mTrue\u001b[0m\u001b[1;33m\u001b[0m\u001b[1;33m\u001b[0m\u001b[0m\n\u001b[0;32m     18\u001b[0m     \u001b[1;32mfor\u001b[0m \u001b[0mi\u001b[0m \u001b[1;32min\u001b[0m \u001b[0margs\u001b[0m\u001b[1;33m:\u001b[0m\u001b[1;33m\u001b[0m\u001b[1;33m\u001b[0m\u001b[0m\n\u001b[1;32m---> 19\u001b[1;33m         \u001b[1;32mif\u001b[0m \u001b[1;32mnot\u001b[0m\u001b[1;33m(\u001b[0m\u001b[0misinstance\u001b[0m\u001b[1;33m(\u001b[0m\u001b[0mi\u001b[0m\u001b[1;33m,\u001b[0m \u001b[1;33m(\u001b[0m\u001b[0mint\u001b[0m\u001b[1;33m,\u001b[0m \u001b[0mfloat\u001b[0m\u001b[1;33m)\u001b[0m\u001b[1;33m)\u001b[0m\u001b[1;33m)\u001b[0m\u001b[1;33m:\u001b[0m\u001b[1;33m\u001b[0m\u001b[1;33m\u001b[0m\u001b[0m\n\u001b[0m\u001b[0;32m     20\u001b[0m             \u001b[1;32mreturn\u001b[0m \u001b[1;32mFalse\u001b[0m\u001b[1;33m\u001b[0m\u001b[1;33m\u001b[0m\u001b[0m\n\u001b[0;32m     21\u001b[0m     \u001b[1;32mreturn\u001b[0m \u001b[1;32mTrue\u001b[0m\u001b[1;33m\u001b[0m\u001b[1;33m\u001b[0m\u001b[0m\n",
      "\u001b[1;31mNameError\u001b[0m: name 'x' is not defined"
     ]
    }
   ],
   "source": [
    "Modules.isNotNumeric(1, 5, 7)"
   ]
  },
  {
   "cell_type": "markdown",
   "id": "7517a6ce",
   "metadata": {},
   "source": [
    "\n",
    "# Functions\n",
    "\n",
    "### Function to Find Minimum Value"
   ]
  },
  {
   "cell_type": "code",
   "execution_count": 5,
   "id": "a263d1d9",
   "metadata": {},
   "outputs": [],
   "source": [
    "# Finding the minimum\n",
    "\n",
    "def findMin(list):\n",
    "    min = list[0]\n",
    "    index = 0\n",
    "    j = 0\n",
    "    for i in list:\n",
    "        if i < min:\n",
    "            min = i\n",
    "            index = j\n",
    "        else:\n",
    "            pass\n",
    "        j += 1\n",
    "        \n",
    "    return min, index\n"
   ]
  },
  {
   "cell_type": "code",
   "execution_count": 6,
   "id": "76f508db",
   "metadata": {},
   "outputs": [],
   "source": [
    "minValue, position = findMin([3, 78, 90, 56, 1, 5])"
   ]
  },
  {
   "cell_type": "code",
   "execution_count": 7,
   "id": "32a23e24",
   "metadata": {},
   "outputs": [
    {
     "name": "stdout",
     "output_type": "stream",
     "text": [
      "1 4\n"
     ]
    }
   ],
   "source": [
    "print(minValue, position)"
   ]
  },
  {
   "cell_type": "markdown",
   "id": "07ec1516",
   "metadata": {},
   "source": [
    "### Function To Swap Numbers"
   ]
  },
  {
   "cell_type": "code",
   "execution_count": null,
   "id": "b5dab7a5",
   "metadata": {},
   "outputs": [],
   "source": []
  }
 ],
 "metadata": {
  "kernelspec": {
   "display_name": "Python 3 (ipykernel)",
   "language": "python",
   "name": "python3"
  },
  "language_info": {
   "codemirror_mode": {
    "name": "ipython",
    "version": 3
   },
   "file_extension": ".py",
   "mimetype": "text/x-python",
   "name": "python",
   "nbconvert_exporter": "python",
   "pygments_lexer": "ipython3",
   "version": "3.9.7"
  }
 },
 "nbformat": 4,
 "nbformat_minor": 5
}
