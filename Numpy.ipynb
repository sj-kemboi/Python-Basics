{
 "cells": [
  {
   "cell_type": "markdown",
   "id": "9ce72bb8",
   "metadata": {},
   "source": [
    "# NUMPY"
   ]
  },
  {
   "cell_type": "code",
   "execution_count": 1,
   "id": "74d52825",
   "metadata": {},
   "outputs": [],
   "source": [
    "import numpy as np"
   ]
  },
  {
   "cell_type": "code",
   "execution_count": 2,
   "id": "a40fa41d",
   "metadata": {},
   "outputs": [],
   "source": [
    "arr = np.array([23,4,57,89,20])"
   ]
  },
  {
   "cell_type": "code",
   "execution_count": 5,
   "id": "a653016d",
   "metadata": {},
   "outputs": [],
   "source": [
    "arr1 = np.array((23,4,57,89,20))"
   ]
  },
  {
   "cell_type": "code",
   "execution_count": 6,
   "id": "419543b7",
   "metadata": {},
   "outputs": [
    {
     "name": "stdout",
     "output_type": "stream",
     "text": [
      "[23  4 57 89 20]\n"
     ]
    }
   ],
   "source": [
    "print(arr)"
   ]
  },
  {
   "cell_type": "code",
   "execution_count": 7,
   "id": "acee05b8",
   "metadata": {
    "scrolled": true
   },
   "outputs": [
    {
     "data": {
      "text/plain": [
       "numpy.ndarray"
      ]
     },
     "execution_count": 7,
     "metadata": {},
     "output_type": "execute_result"
    }
   ],
   "source": [
    "type(arr)"
   ]
  },
  {
   "cell_type": "code",
   "execution_count": 10,
   "id": "fc807dad",
   "metadata": {},
   "outputs": [
    {
     "data": {
      "text/plain": [
       "dtype('int32')"
      ]
     },
     "execution_count": 10,
     "metadata": {},
     "output_type": "execute_result"
    }
   ],
   "source": [
    "arr.dtype"
   ]
  },
  {
   "cell_type": "code",
   "execution_count": 8,
   "id": "63178e4a",
   "metadata": {},
   "outputs": [
    {
     "name": "stdout",
     "output_type": "stream",
     "text": [
      "[23  4 57 89 20]\n"
     ]
    }
   ],
   "source": [
    "print(arr1)"
   ]
  },
  {
   "cell_type": "code",
   "execution_count": 9,
   "id": "d6c407f0",
   "metadata": {},
   "outputs": [
    {
     "data": {
      "text/plain": [
       "numpy.ndarray"
      ]
     },
     "execution_count": 9,
     "metadata": {},
     "output_type": "execute_result"
    }
   ],
   "source": [
    "type(arr1)"
   ]
  },
  {
   "cell_type": "code",
   "execution_count": 11,
   "id": "dbf7cc2a",
   "metadata": {},
   "outputs": [
    {
     "data": {
      "text/plain": [
       "dtype('int32')"
      ]
     },
     "execution_count": 11,
     "metadata": {},
     "output_type": "execute_result"
    }
   ],
   "source": [
    "arr1.dtype"
   ]
  },
  {
   "cell_type": "code",
   "execution_count": 12,
   "id": "602968bb",
   "metadata": {},
   "outputs": [],
   "source": [
    "# Assigning Data Type to each data structure\n",
    "\n",
    "#  ==> arr = np.array([23, 46, 68, 80], dtype = \"f\")"
   ]
  },
  {
   "cell_type": "code",
   "execution_count": null,
   "id": "fb5ce6f1",
   "metadata": {},
   "outputs": [],
   "source": []
  },
  {
   "cell_type": "markdown",
   "id": "c12aaaa2",
   "metadata": {},
   "source": [
    "## NUMPY PROPERTIES"
   ]
  },
  {
   "cell_type": "markdown",
   "id": "e73daa77",
   "metadata": {},
   "source": [
    "### 1. dtype"
   ]
  },
  {
   "cell_type": "code",
   "execution_count": 13,
   "id": "618f7be2",
   "metadata": {},
   "outputs": [
    {
     "data": {
      "text/plain": [
       "dtype('int32')"
      ]
     },
     "execution_count": 13,
     "metadata": {},
     "output_type": "execute_result"
    }
   ],
   "source": [
    "arr1 = np.array([1, 2, 3, 4, 5, 6])\n",
    "\n",
    "arr1.dtype"
   ]
  },
  {
   "cell_type": "code",
   "execution_count": 14,
   "id": "bab66463",
   "metadata": {},
   "outputs": [
    {
     "data": {
      "text/plain": [
       "dtype('float32')"
      ]
     },
     "execution_count": 14,
     "metadata": {},
     "output_type": "execute_result"
    }
   ],
   "source": [
    "arr2 = np.array((1, 2, 3,4, 5, 6), dtype = \"f\")\n",
    "\n",
    "arr2.dtype"
   ]
  },
  {
   "cell_type": "markdown",
   "id": "cf6a7d70",
   "metadata": {},
   "source": [
    "### 2. Dimensions => ndim()"
   ]
  },
  {
   "cell_type": "markdown",
   "id": "a4e48be9",
   "metadata": {},
   "source": [
    "###### Dimensions refer to the number of indices required to store a given no of arrays"
   ]
  },
  {
   "cell_type": "code",
   "execution_count": 22,
   "id": "8f23acac",
   "metadata": {},
   "outputs": [
    {
     "name": "stdout",
     "output_type": "stream",
     "text": [
      "1\n",
      "Element at arr[1] :  2\n"
     ]
    }
   ],
   "source": [
    "arr = np.array([1, 2, 3])\n",
    "\n",
    "print(arr.ndim)\n",
    "\n",
    "print(\"Element at arr[1] : \", arr[1])"
   ]
  },
  {
   "cell_type": "code",
   "execution_count": 15,
   "id": "2202d7b2",
   "metadata": {},
   "outputs": [
    {
     "name": "stdout",
     "output_type": "stream",
     "text": [
      "2\n"
     ]
    }
   ],
   "source": [
    "arr1 = np.array([[1, 2, 3], [4, 5, 6]])\n",
    "\n",
    "print(arr1.ndim)"
   ]
  },
  {
   "cell_type": "code",
   "execution_count": 23,
   "id": "7122bc1b",
   "metadata": {},
   "outputs": [
    {
     "name": "stdout",
     "output_type": "stream",
     "text": [
      "2\n",
      "Element at arr[1, 2] :  6\n"
     ]
    }
   ],
   "source": [
    "arr2 = np.array([[1, 2, 3], [4, 5, 6], [7, 8, 9]])\n",
    "\n",
    "print(arr2.ndim)\n",
    "\n",
    "print(\"Element at arr[1, 2] : \", arr2[1, 2])"
   ]
  },
  {
   "cell_type": "code",
   "execution_count": 35,
   "id": "eed9a910",
   "metadata": {
    "scrolled": true
   },
   "outputs": [
    {
     "name": "stdout",
     "output_type": "stream",
     "text": [
      "3\n",
      "Element at arr[1, 1, 2] :  12\n"
     ]
    }
   ],
   "source": [
    "arr3 = np.array([[[1, 2, 3], [4, 5, 6]], [[7, 8, 9],[10, 11, 12]]])\n",
    "\n",
    "print(arr3.ndim)\n",
    "\n",
    "print(\"Element at arr[1, 1, 2] : \", arr3[1, 1, 2])"
   ]
  },
  {
   "cell_type": "code",
   "execution_count": 40,
   "id": "0106007f",
   "metadata": {},
   "outputs": [
    {
     "name": "stdout",
     "output_type": "stream",
     "text": [
      "1\n"
     ]
    }
   ],
   "source": [
    "arr4 = np.array([7])\n",
    "\n",
    "print(arr4.ndim)"
   ]
  },
  {
   "cell_type": "code",
   "execution_count": 41,
   "id": "8a847986",
   "metadata": {},
   "outputs": [
    {
     "name": "stdout",
     "output_type": "stream",
     "text": [
      "0\n"
     ]
    }
   ],
   "source": [
    "arr5 = np.array(7)\n",
    "\n",
    "print(arr5.ndim)"
   ]
  },
  {
   "cell_type": "markdown",
   "id": "705b6e73",
   "metadata": {},
   "source": [
    "### 3. Shapes => shape()"
   ]
  },
  {
   "cell_type": "code",
   "execution_count": 37,
   "id": "9a76490f",
   "metadata": {},
   "outputs": [
    {
     "data": {
      "text/plain": [
       "array([[[ 1,  2,  3],\n",
       "        [ 4,  5,  6]],\n",
       "\n",
       "       [[ 7,  8,  9],\n",
       "        [10, 11, 12]]])"
      ]
     },
     "execution_count": 37,
     "metadata": {},
     "output_type": "execute_result"
    }
   ],
   "source": [
    "arr3"
   ]
  },
  {
   "cell_type": "code",
   "execution_count": 36,
   "id": "45b39442",
   "metadata": {},
   "outputs": [
    {
     "data": {
      "text/plain": [
       "(2, 2, 3)"
      ]
     },
     "execution_count": 36,
     "metadata": {},
     "output_type": "execute_result"
    }
   ],
   "source": [
    "# tuples(no.of 2D arrays, 1D arrays in each 2D array, elements in each 1D array)\n",
    "\n",
    "arr3.shape"
   ]
  },
  {
   "cell_type": "code",
   "execution_count": 38,
   "id": "c26ca781",
   "metadata": {},
   "outputs": [
    {
     "data": {
      "text/plain": [
       "2"
      ]
     },
     "execution_count": 38,
     "metadata": {},
     "output_type": "execute_result"
    }
   ],
   "source": [
    "# Tells the total no.of 2D arrays\n",
    "\n",
    "arr3.shape[0]"
   ]
  },
  {
   "cell_type": "code",
   "execution_count": 39,
   "id": "0b1bec52",
   "metadata": {},
   "outputs": [
    {
     "data": {
      "text/plain": [
       "2"
      ]
     },
     "execution_count": 39,
     "metadata": {},
     "output_type": "execute_result"
    }
   ],
   "source": [
    "# Tells the total no. of 1d arrays in the 2D array\n",
    "\n",
    "arr3.shape[1]"
   ]
  },
  {
   "cell_type": "code",
   "execution_count": 42,
   "id": "007dd704",
   "metadata": {},
   "outputs": [
    {
     "data": {
      "text/plain": [
       "3"
      ]
     },
     "execution_count": 42,
     "metadata": {},
     "output_type": "execute_result"
    }
   ],
   "source": [
    "# Tells the totalno.of elements in a 1D array\n",
    "\n",
    "arr3.shape[2]"
   ]
  },
  {
   "cell_type": "markdown",
   "id": "aef71b11",
   "metadata": {},
   "source": [
    "### 4. Size"
   ]
  },
  {
   "cell_type": "code",
   "execution_count": 43,
   "id": "5699b52a",
   "metadata": {},
   "outputs": [
    {
     "data": {
      "text/plain": [
       "'Total Number Of Elements In Array'"
      ]
     },
     "execution_count": 43,
     "metadata": {},
     "output_type": "execute_result"
    }
   ],
   "source": [
    "\"\"\"Total Number Of Elements In Array\"\"\""
   ]
  },
  {
   "cell_type": "code",
   "execution_count": 44,
   "id": "12b84401",
   "metadata": {},
   "outputs": [
    {
     "data": {
      "text/plain": [
       "12"
      ]
     },
     "execution_count": 44,
     "metadata": {},
     "output_type": "execute_result"
    }
   ],
   "source": [
    "arr3.size"
   ]
  },
  {
   "cell_type": "markdown",
   "id": "bdeda253",
   "metadata": {},
   "source": [
    "### 5. Bytes"
   ]
  },
  {
   "cell_type": "code",
   "execution_count": 45,
   "id": "c3260972",
   "metadata": {},
   "outputs": [
    {
     "data": {
      "text/plain": [
       "48"
      ]
     },
     "execution_count": 45,
     "metadata": {},
     "output_type": "execute_result"
    }
   ],
   "source": [
    "arr3.nbytes"
   ]
  },
  {
   "cell_type": "markdown",
   "id": "cc88dfca",
   "metadata": {},
   "source": [
    "## NUMPY FUNCTIONS"
   ]
  },
  {
   "cell_type": "markdown",
   "id": "30624872",
   "metadata": {},
   "source": [
    "### 1. np.arange()"
   ]
  },
  {
   "cell_type": "markdown",
   "id": "253b5560",
   "metadata": {},
   "source": [
    "###### Creates an array with values in a given range"
   ]
  },
  {
   "cell_type": "code",
   "execution_count": 46,
   "id": "433f42d0",
   "metadata": {},
   "outputs": [],
   "source": [
    "arr = np.arange(100) # array of numbers from 0 - 99"
   ]
  },
  {
   "cell_type": "code",
   "execution_count": 47,
   "id": "2893ad3d",
   "metadata": {},
   "outputs": [
    {
     "name": "stdout",
     "output_type": "stream",
     "text": [
      "[ 0  1  2  3  4  5  6  7  8  9 10 11 12 13 14 15 16 17 18 19 20 21 22 23\n",
      " 24 25 26 27 28 29 30 31 32 33 34 35 36 37 38 39 40 41 42 43 44 45 46 47\n",
      " 48 49 50 51 52 53 54 55 56 57 58 59 60 61 62 63 64 65 66 67 68 69 70 71\n",
      " 72 73 74 75 76 77 78 79 80 81 82 83 84 85 86 87 88 89 90 91 92 93 94 95\n",
      " 96 97 98 99]\n"
     ]
    }
   ],
   "source": [
    "print(arr)"
   ]
  },
  {
   "cell_type": "code",
   "execution_count": 48,
   "id": "6e4bca6e",
   "metadata": {},
   "outputs": [
    {
     "name": "stdout",
     "output_type": "stream",
     "text": [
      "[20 21 22 23 24 25 26 27 28 29 30 31 32 33 34 35 36 37 38 39 40 41 42 43\n",
      " 44 45 46 47 48 49 50 51 52 53 54 55 56 57 58 59 60 61 62 63 64 65 66 67\n",
      " 68 69 70 71 72 73 74 75 76 77 78 79 80 81 82 83 84 85 86 87 88 89 90 91\n",
      " 92 93 94 95 96 97 98 99]\n"
     ]
    }
   ],
   "source": [
    "arr2 = np.arange(20, 100) #array of numbers from 20 - 99\n",
    "\n",
    "print(arr2)"
   ]
  },
  {
   "cell_type": "code",
   "execution_count": 49,
   "id": "d2139fee",
   "metadata": {},
   "outputs": [
    {
     "name": "stdout",
     "output_type": "stream",
     "text": [
      "[30 33 36 39 42 45 48 51 54 57 60 63 66 69 72 75 78 81 84 87 90 93 96 99]\n"
     ]
    }
   ],
   "source": [
    "arr3 = np.arange(30, 100, 3) # array of numbers from 30 - 99 , with a step 3\n",
    "\n",
    "print(arr3)"
   ]
  },
  {
   "cell_type": "code",
   "execution_count": null,
   "id": "3e60f720",
   "metadata": {},
   "outputs": [],
   "source": []
  },
  {
   "cell_type": "markdown",
   "id": "d7421ab3",
   "metadata": {},
   "source": [
    "### 2. np.random.permutation"
   ]
  },
  {
   "cell_type": "markdown",
   "id": "34ca32dc",
   "metadata": {},
   "source": [
    "###### permutation => package inside random , it shuffles and rearranges all the values in a random order"
   ]
  },
  {
   "cell_type": "code",
   "execution_count": 50,
   "id": "d4cc0970",
   "metadata": {},
   "outputs": [
    {
     "name": "stdout",
     "output_type": "stream",
     "text": [
      "[ 4  3 16 11 17 15  1  7 12 14  6  2  5 10 18 19  8  9 13  0]\n"
     ]
    }
   ],
   "source": [
    "arr = np.random.permutation(np.arange(20))\n",
    "\n",
    "print(arr)"
   ]
  },
  {
   "cell_type": "markdown",
   "id": "3c2de671",
   "metadata": {},
   "source": [
    "### 3. np.random.randint"
   ]
  },
  {
   "cell_type": "markdown",
   "id": "bde29762",
   "metadata": {},
   "source": [
    "###### randint => creates a random integer"
   ]
  },
  {
   "cell_type": "code",
   "execution_count": 54,
   "id": "eec7e73a",
   "metadata": {},
   "outputs": [
    {
     "name": "stdout",
     "output_type": "stream",
     "text": [
      "22\n",
      "Type of :  22 is ::  <class 'int'>\n"
     ]
    }
   ],
   "source": [
    "arr1 = np.random.randint(20, 30)\n",
    "\n",
    "print(arr1)\n",
    "\n",
    "print(\"Type of : \",arr1, \"is :: \", type(arr1))"
   ]
  },
  {
   "cell_type": "markdown",
   "id": "93a7ab35",
   "metadata": {},
   "source": [
    "### 4. np.reshape"
   ]
  },
  {
   "cell_type": "markdown",
   "id": "af1fffaf",
   "metadata": {},
   "source": [
    "###### reorganizes an array to a desired dimensional array , for instance given an 1D array its can re-organize it to 2D etc"
   ]
  },
  {
   "cell_type": "code",
   "execution_count": 67,
   "id": "15f2f753",
   "metadata": {},
   "outputs": [
    {
     "data": {
      "text/plain": [
       "(4, 5)"
      ]
     },
     "execution_count": 67,
     "metadata": {},
     "output_type": "execute_result"
    }
   ],
   "source": [
    "arr = np.arange(20).reshape(4, 5)\n",
    "\n",
    "arr.shape"
   ]
  },
  {
   "cell_type": "code",
   "execution_count": 68,
   "id": "2d4b9062",
   "metadata": {},
   "outputs": [
    {
     "data": {
      "text/plain": [
       "array([[[ 0,  1,  2],\n",
       "        [ 3,  4,  5],\n",
       "        [ 6,  7,  8],\n",
       "        [ 9, 10, 11],\n",
       "        [12, 13, 14]],\n",
       "\n",
       "       [[15, 16, 17],\n",
       "        [18, 19, 20],\n",
       "        [21, 22, 23],\n",
       "        [24, 25, 26],\n",
       "        [27, 28, 29]]])"
      ]
     },
     "execution_count": 68,
     "metadata": {},
     "output_type": "execute_result"
    }
   ],
   "source": [
    "arr1 = np.arange(30).reshape(2, 5, 3)\n",
    "\n",
    "arr1"
   ]
  },
  {
   "cell_type": "code",
   "execution_count": null,
   "id": "64cf9f2b",
   "metadata": {},
   "outputs": [],
   "source": []
  },
  {
   "cell_type": "code",
   "execution_count": null,
   "id": "3d209ba9",
   "metadata": {},
   "outputs": [],
   "source": []
  },
  {
   "cell_type": "markdown",
   "id": "f4a9a37f",
   "metadata": {},
   "source": [
    "### 5. random.rand()"
   ]
  },
  {
   "cell_type": "markdown",
   "id": "e38de59a",
   "metadata": {},
   "source": [
    "###### generates random values between 0 and 1"
   ]
  },
  {
   "cell_type": "code",
   "execution_count": 55,
   "id": "94132454",
   "metadata": {},
   "outputs": [],
   "source": [
    "arr = np.random.rand(10)"
   ]
  },
  {
   "cell_type": "code",
   "execution_count": 56,
   "id": "bcf1d1dd",
   "metadata": {},
   "outputs": [
    {
     "name": "stdout",
     "output_type": "stream",
     "text": [
      "[0.71692392 0.11903513 0.21644226 0.00396578 0.79659497 0.936932\n",
      " 0.90458555 0.4528642  0.21949975 0.54923983]\n"
     ]
    }
   ],
   "source": [
    "print(arr)"
   ]
  },
  {
   "cell_type": "code",
   "execution_count": 60,
   "id": "e41cf096",
   "metadata": {},
   "outputs": [
    {
     "name": "stdout",
     "output_type": "stream",
     "text": [
      "[[0.66905094 0.95359839 0.38131478 0.05305333]\n",
      " [0.1126191  0.7404039  0.69740742 0.32799482]\n",
      " [0.05906451 0.50115168 0.33225296 0.97809406]\n",
      " [0.53603376 0.95405808 0.12061062 0.854165  ]]\n"
     ]
    }
   ],
   "source": [
    "arr2 = np.random.rand(4,4)\n",
    "\n",
    "print(arr2)"
   ]
  },
  {
   "cell_type": "code",
   "execution_count": 61,
   "id": "6cda0dcd",
   "metadata": {},
   "outputs": [
    {
     "data": {
      "text/plain": [
       "2"
      ]
     },
     "execution_count": 61,
     "metadata": {},
     "output_type": "execute_result"
    }
   ],
   "source": [
    "arr2.ndim"
   ]
  },
  {
   "cell_type": "markdown",
   "id": "db0d3fb3",
   "metadata": {},
   "source": [
    "### np.random.randn()"
   ]
  },
  {
   "cell_type": "markdown",
   "id": "6545bcd2",
   "metadata": {},
   "source": [
    "###### generates real random values"
   ]
  },
  {
   "cell_type": "code",
   "execution_count": 57,
   "id": "c1b4aa0b",
   "metadata": {},
   "outputs": [
    {
     "name": "stdout",
     "output_type": "stream",
     "text": [
      "[-1.76846442  0.48134189 -0.9244977   0.74570358 -0.04151643 -0.56511331\n",
      "  0.25754068 -0.91026435  1.15815475  0.57576345]\n"
     ]
    }
   ],
   "source": [
    "arr = np.random.randn(10)\n",
    "\n",
    "print(arr)"
   ]
  },
  {
   "cell_type": "code",
   "execution_count": null,
   "id": "4db8b3c2",
   "metadata": {},
   "outputs": [],
   "source": []
  },
  {
   "cell_type": "code",
   "execution_count": 69,
   "id": "97730769",
   "metadata": {},
   "outputs": [],
   "source": [
    "np.zeros?"
   ]
  },
  {
   "cell_type": "code",
   "execution_count": 70,
   "id": "613e4a55",
   "metadata": {},
   "outputs": [],
   "source": [
    "np.ones?"
   ]
  },
  {
   "cell_type": "code",
   "execution_count": null,
   "id": "ba8881a1",
   "metadata": {},
   "outputs": [],
   "source": []
  },
  {
   "cell_type": "markdown",
   "id": "602a5450",
   "metadata": {},
   "source": [
    "## SLICING / INDEXING IN NUMPY"
   ]
  },
  {
   "cell_type": "code",
   "execution_count": null,
   "id": "aaae324d",
   "metadata": {},
   "outputs": [],
   "source": [
    "\"\"\"Slicing Create A View Rather Than A Copy\"\"\""
   ]
  },
  {
   "cell_type": "markdown",
   "id": "181d19c5",
   "metadata": {},
   "source": [
    "###### arr[start:end:step]"
   ]
  },
  {
   "cell_type": "markdown",
   "id": "a2d1754b",
   "metadata": {},
   "source": [
    "###### arr[1:5] => 1 - 5 , 5 exclusive"
   ]
  },
  {
   "cell_type": "markdown",
   "id": "3172bf03",
   "metadata": {},
   "source": [
    "###### arr[:5] => 0 - 5, 5 exclusive"
   ]
  },
  {
   "cell_type": "markdown",
   "id": "4967d704",
   "metadata": {},
   "source": [
    "###### arr[2:] => indexing from 2 till end , including last element"
   ]
  },
  {
   "cell_type": "markdown",
   "id": "db67056c",
   "metadata": {},
   "source": [
    "###### arr[::-1] => reverse an array"
   ]
  },
  {
   "cell_type": "markdown",
   "id": "73e6eb3e",
   "metadata": {},
   "source": [
    "###### arr[::2] => start till end , after every 2 steps"
   ]
  },
  {
   "cell_type": "markdown",
   "id": "668081aa",
   "metadata": {},
   "source": [
    "### N/B :: SLICING in numpy REFERENCES THE ORIGINAL ARRAY => changes made to the sliced array also apply to the original array"
   ]
  },
  {
   "cell_type": "code",
   "execution_count": 71,
   "id": "90f5a88c",
   "metadata": {},
   "outputs": [
    {
     "name": "stdout",
     "output_type": "stream",
     "text": [
      "[3 4 5 6 7 8 9]\n"
     ]
    }
   ],
   "source": [
    "arr = np.arange(100)\n",
    "\n",
    "arr1 = arr[3:10]\n",
    "\n",
    "print(arr1)"
   ]
  },
  {
   "cell_type": "code",
   "execution_count": 72,
   "id": "a46eb41c",
   "metadata": {},
   "outputs": [
    {
     "data": {
      "text/plain": [
       "array([-33,   4,   5,   6,   7,   8,   9])"
      ]
     },
     "execution_count": 72,
     "metadata": {},
     "output_type": "execute_result"
    }
   ],
   "source": [
    "arr1[0] = -33\n",
    "\n",
    "arr1"
   ]
  },
  {
   "cell_type": "code",
   "execution_count": 73,
   "id": "45d44842",
   "metadata": {},
   "outputs": [
    {
     "data": {
      "text/plain": [
       "array([  0,   1,   2, -33,   4,   5,   6,   7,   8,   9,  10,  11,  12,\n",
       "        13,  14,  15,  16,  17,  18,  19,  20,  21,  22,  23,  24,  25,\n",
       "        26,  27,  28,  29,  30,  31,  32,  33,  34,  35,  36,  37,  38,\n",
       "        39,  40,  41,  42,  43,  44,  45,  46,  47,  48,  49,  50,  51,\n",
       "        52,  53,  54,  55,  56,  57,  58,  59,  60,  61,  62,  63,  64,\n",
       "        65,  66,  67,  68,  69,  70,  71,  72,  73,  74,  75,  76,  77,\n",
       "        78,  79,  80,  81,  82,  83,  84,  85,  86,  87,  88,  89,  90,\n",
       "        91,  92,  93,  94,  95,  96,  97,  98,  99])"
      ]
     },
     "execution_count": 73,
     "metadata": {},
     "output_type": "execute_result"
    }
   ],
   "source": [
    "arr"
   ]
  },
  {
   "cell_type": "markdown",
   "id": "20299f16",
   "metadata": {},
   "source": [
    "### N/B:FOR THE EFFECT OF CHANGING A SLICED ARRAY NOT TO APPEAR IN ORIGINAL ARRAY => include the copy() function to make the copy of the new array which does not change the original array"
   ]
  },
  {
   "cell_type": "code",
   "execution_count": 75,
   "id": "031668d3",
   "metadata": {},
   "outputs": [
    {
     "data": {
      "text/plain": [
       "array([10, 11, 12, 13, 14, 15, 16, 17, 18, 19])"
      ]
     },
     "execution_count": 75,
     "metadata": {},
     "output_type": "execute_result"
    }
   ],
   "source": [
    "arr = np.arange(50)\n",
    "\n",
    "arr1  = arr[10:20].copy()\n",
    "\n",
    "arr1"
   ]
  },
  {
   "cell_type": "code",
   "execution_count": 76,
   "id": "9cd68c20",
   "metadata": {},
   "outputs": [],
   "source": [
    "arr1[6] = 77\n"
   ]
  },
  {
   "cell_type": "code",
   "execution_count": 77,
   "id": "14da390f",
   "metadata": {},
   "outputs": [
    {
     "data": {
      "text/plain": [
       "array([10, 11, 12, 13, 14, 15, 77, 17, 18, 19])"
      ]
     },
     "execution_count": 77,
     "metadata": {},
     "output_type": "execute_result"
    }
   ],
   "source": [
    "arr1"
   ]
  },
  {
   "cell_type": "code",
   "execution_count": 78,
   "id": "0b7982c0",
   "metadata": {},
   "outputs": [
    {
     "data": {
      "text/plain": [
       "array([ 0,  1,  2,  3,  4,  5,  6,  7,  8,  9, 10, 11, 12, 13, 14, 15, 16,\n",
       "       17, 18, 19, 20, 21, 22, 23, 24, 25, 26, 27, 28, 29, 30, 31, 32, 33,\n",
       "       34, 35, 36, 37, 38, 39, 40, 41, 42, 43, 44, 45, 46, 47, 48, 49])"
      ]
     },
     "execution_count": 78,
     "metadata": {},
     "output_type": "execute_result"
    }
   ],
   "source": [
    "arr"
   ]
  },
  {
   "cell_type": "code",
   "execution_count": 79,
   "id": "963da254",
   "metadata": {},
   "outputs": [
    {
     "data": {
      "text/plain": [
       "array([ 0,  3,  6,  9, 12, 15, 18, 21, 24, 27, 30, 33, 36, 39, 42, 45, 48])"
      ]
     },
     "execution_count": 79,
     "metadata": {},
     "output_type": "execute_result"
    }
   ],
   "source": [
    "arr[::3]"
   ]
  },
  {
   "cell_type": "code",
   "execution_count": 81,
   "id": "7a48de37",
   "metadata": {},
   "outputs": [
    {
     "data": {
      "text/plain": [
       "array([49, 46, 43, 40, 37, 34, 31, 28, 25, 22, 19, 16, 13, 10,  7,  4,  1])"
      ]
     },
     "execution_count": 81,
     "metadata": {},
     "output_type": "execute_result"
    }
   ],
   "source": [
    "arr[::-3]"
   ]
  },
  {
   "cell_type": "code",
   "execution_count": 82,
   "id": "bb14fd22",
   "metadata": {},
   "outputs": [
    {
     "data": {
      "text/plain": [
       "array([ 0,  1,  2,  3,  4,  5,  6,  7,  8,  9, 10, 11, 12, 13, 14, 15, 16,\n",
       "       17, 18, 19, 20, 21, 22, 23, 24, 25, 26, 27, 28, 29, 30, 31, 32, 33,\n",
       "       34, 35, 36, 37, 38, 39, 40, 41, 42, 43, 44, 45, 46, 47, 48, 49])"
      ]
     },
     "execution_count": 82,
     "metadata": {},
     "output_type": "execute_result"
    }
   ],
   "source": [
    "arr[::1]"
   ]
  },
  {
   "cell_type": "code",
   "execution_count": 83,
   "id": "cd13b54b",
   "metadata": {},
   "outputs": [
    {
     "data": {
      "text/plain": [
       "array([49, 48, 47, 46, 45, 44, 43, 42, 41, 40, 39, 38, 37, 36, 35, 34, 33,\n",
       "       32, 31, 30, 29, 28, 27, 26, 25, 24, 23, 22, 21, 20, 19, 18, 17, 16,\n",
       "       15, 14, 13, 12, 11, 10,  9,  8,  7,  6,  5,  4,  3,  2,  1,  0])"
      ]
     },
     "execution_count": 83,
     "metadata": {},
     "output_type": "execute_result"
    }
   ],
   "source": [
    "arr[::-1]"
   ]
  },
  {
   "cell_type": "code",
   "execution_count": null,
   "id": "4d4776f1",
   "metadata": {},
   "outputs": [],
   "source": []
  }
 ],
 "metadata": {
  "kernelspec": {
   "display_name": "Python 3 (ipykernel)",
   "language": "python",
   "name": "python3"
  },
  "language_info": {
   "codemirror_mode": {
    "name": "ipython",
    "version": 3
   },
   "file_extension": ".py",
   "mimetype": "text/x-python",
   "name": "python",
   "nbconvert_exporter": "python",
   "pygments_lexer": "ipython3",
   "version": "3.9.7"
  }
 },
 "nbformat": 4,
 "nbformat_minor": 5
}
