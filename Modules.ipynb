{
 "cells": [
  {
   "cell_type": "markdown",
   "id": "20d55607",
   "metadata": {},
   "source": [
    "# Simple Codes"
   ]
  },
  {
   "cell_type": "code",
   "execution_count": 5,
   "id": "4be05d1d",
   "metadata": {},
   "outputs": [],
   "source": [
    "def hello():\n",
    "    print(\"Hello World!\")"
   ]
  },
  {
   "cell_type": "code",
   "execution_count": 4,
   "id": "4aa0ecf8",
   "metadata": {},
   "outputs": [],
   "source": [
    "def isNotNumeric(*args):\n",
    "    returnValue = True\n",
    "    for i in args:\n",
    "        if not(isinstance(i, (int, float))):\n",
    "            return False\n",
    "    return True\n",
    "        "
   ]
  },
  {
   "cell_type": "code",
   "execution_count": 6,
   "id": "f2174632",
   "metadata": {},
   "outputs": [],
   "source": [
    "def addAllNumbers(*args):\n",
    "    sum = 0\n",
    "    for i in args:\n",
    "        sum += i\n",
    "    return sum"
   ]
  },
  {
   "cell_type": "code",
   "execution_count": null,
   "id": "7bbcb7ec",
   "metadata": {},
   "outputs": [],
   "source": []
  }
 ],
 "metadata": {
  "kernelspec": {
   "display_name": "Python 3 (ipykernel)",
   "language": "python",
   "name": "python3"
  },
  "language_info": {
   "codemirror_mode": {
    "name": "ipython",
    "version": 3
   },
   "file_extension": ".py",
   "mimetype": "text/x-python",
   "name": "python",
   "nbconvert_exporter": "python",
   "pygments_lexer": "ipython3",
   "version": "3.9.7"
  }
 },
 "nbformat": 4,
 "nbformat_minor": 5
}
