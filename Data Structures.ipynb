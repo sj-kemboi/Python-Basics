{
 "cells": [
  {
   "cell_type": "markdown",
   "id": "c5558e50",
   "metadata": {},
   "source": [
    "# LISTS => ORDERED, MUTABLE, DUPLICATES"
   ]
  },
  {
   "cell_type": "code",
   "execution_count": 2,
   "id": "833bbefe",
   "metadata": {},
   "outputs": [],
   "source": [
    "list1 =[1, 3, 4.9, \"name\", 3]"
   ]
  },
  {
   "cell_type": "code",
   "execution_count": 3,
   "id": "0e46a392",
   "metadata": {},
   "outputs": [
    {
     "name": "stdout",
     "output_type": "stream",
     "text": [
      "<class 'list'>\n"
     ]
    }
   ],
   "source": [
    "print(type(list1))"
   ]
  },
  {
   "cell_type": "markdown",
   "id": "24a961ba",
   "metadata": {},
   "source": [
    "#### Accessing Values"
   ]
  },
  {
   "cell_type": "code",
   "execution_count": 4,
   "id": "9c1a697b",
   "metadata": {},
   "outputs": [
    {
     "name": "stdout",
     "output_type": "stream",
     "text": [
      "name\n"
     ]
    }
   ],
   "source": [
    "print(list1[3])"
   ]
  },
  {
   "cell_type": "code",
   "execution_count": 5,
   "id": "a4edac70",
   "metadata": {},
   "outputs": [
    {
     "data": {
      "text/plain": [
       "[3, 4.9]"
      ]
     },
     "execution_count": 5,
     "metadata": {},
     "output_type": "execute_result"
    }
   ],
   "source": [
    "list1[1:3]"
   ]
  },
  {
   "cell_type": "code",
   "execution_count": 6,
   "id": "a6be2a5f",
   "metadata": {},
   "outputs": [
    {
     "data": {
      "text/plain": [
       "[3, 'name', 4.9, 3, 1]"
      ]
     },
     "execution_count": 6,
     "metadata": {},
     "output_type": "execute_result"
    }
   ],
   "source": [
    "list1[::-1]"
   ]
  },
  {
   "cell_type": "markdown",
   "id": "bd36bbbe",
   "metadata": {},
   "source": [
    "#### Adding Elements"
   ]
  },
  {
   "cell_type": "code",
   "execution_count": 7,
   "id": "e2f80ab0",
   "metadata": {},
   "outputs": [],
   "source": [
    "# list = list + [item]\n",
    "\n",
    "# append() => quick way of adding values at the end of a list\n"
   ]
  },
  {
   "cell_type": "code",
   "execution_count": 59,
   "id": "0e3dc5ee",
   "metadata": {},
   "outputs": [
    {
     "data": {
      "text/plain": [
       "['one', 3, 4.9, 3, 'how', 'are', 7, 'you', 3.9, 'how', 'are', 7, 'you']"
      ]
     },
     "execution_count": 59,
     "metadata": {},
     "output_type": "execute_result"
    }
   ],
   "source": [
    "\n",
    "list1 = list1 + [\"how\", \"are\", 7, \"you\"]\n",
    "\n",
    "list1"
   ]
  },
  {
   "cell_type": "code",
   "execution_count": 63,
   "id": "9413388f",
   "metadata": {},
   "outputs": [
    {
     "data": {
      "text/plain": [
       "'list1 = list1 + [\"how\", \"are\", 7, \"you\"]\\n\\nlist1'"
      ]
     },
     "execution_count": 63,
     "metadata": {},
     "output_type": "execute_result"
    }
   ],
   "source": [
    "In[59]"
   ]
  },
  {
   "cell_type": "code",
   "execution_count": 71,
   "id": "6dafe575",
   "metadata": {},
   "outputs": [
    {
     "data": {
      "text/plain": [
       "['one',\n",
       " 3,\n",
       " 4.9,\n",
       " 3,\n",
       " 'how',\n",
       " 'are',\n",
       " 7,\n",
       " 'you',\n",
       " 3.9,\n",
       " 'how',\n",
       " 'are',\n",
       " 7,\n",
       " 'you',\n",
       " 3.9,\n",
       " 3.9,\n",
       " 3.9,\n",
       " 6,\n",
       " 6]"
      ]
     },
     "execution_count": 71,
     "metadata": {},
     "output_type": "execute_result"
    }
   ],
   "source": [
    "\n",
    "list1.append(6)\n",
    "list1"
   ]
  },
  {
   "cell_type": "code",
   "execution_count": null,
   "id": "9a54c879",
   "metadata": {},
   "outputs": [],
   "source": []
  },
  {
   "cell_type": "markdown",
   "id": "ea79e3c6",
   "metadata": {},
   "source": [
    "#### Removing Elements"
   ]
  },
  {
   "cell_type": "code",
   "execution_count": 10,
   "id": "40b8d050",
   "metadata": {},
   "outputs": [],
   "source": [
    "# Deleting Specific element =>> del list[index]\n",
    "# Deleting Wholelist =>> del list"
   ]
  },
  {
   "cell_type": "code",
   "execution_count": 11,
   "id": "71892366",
   "metadata": {},
   "outputs": [],
   "source": [
    "# Delete name(index 3)\n",
    "\n",
    "del list1[3]"
   ]
  },
  {
   "cell_type": "code",
   "execution_count": 12,
   "id": "fdf7aa2b",
   "metadata": {},
   "outputs": [
    {
     "data": {
      "text/plain": [
       "[1, 3, 4.9, 3, 'how', 'are', 7, 'you', 3.9]"
      ]
     },
     "execution_count": 12,
     "metadata": {},
     "output_type": "execute_result"
    }
   ],
   "source": [
    "list1"
   ]
  },
  {
   "cell_type": "markdown",
   "id": "61ffb6de",
   "metadata": {},
   "source": [
    "#### Copy Function => copy()\n"
   ]
  },
  {
   "cell_type": "code",
   "execution_count": 77,
   "id": "849fea86",
   "metadata": {},
   "outputs": [
    {
     "data": {
      "text/plain": [
       "['one', 3, 4.9, 3, 'how', 'are', 7]"
      ]
     },
     "execution_count": 77,
     "metadata": {},
     "output_type": "execute_result"
    }
   ],
   "source": [
    "list1= list1[0:7]\n",
    "list1\n"
   ]
  },
  {
   "cell_type": "code",
   "execution_count": 78,
   "id": "d830ab86",
   "metadata": {},
   "outputs": [
    {
     "data": {
      "text/plain": [
       "['one', 3, 4.9, 3, 'how', 'are', 7]"
      ]
     },
     "execution_count": 78,
     "metadata": {},
     "output_type": "execute_result"
    }
   ],
   "source": [
    "list2=list1\n",
    "list2"
   ]
  },
  {
   "cell_type": "code",
   "execution_count": 79,
   "id": "df6333e2",
   "metadata": {},
   "outputs": [
    {
     "data": {
      "text/plain": [
       "[1, 3, 4.9, 3, 'how', 'are', 7]"
      ]
     },
     "execution_count": 79,
     "metadata": {},
     "output_type": "execute_result"
    }
   ],
   "source": [
    "list2[0] = 1\n",
    "list2"
   ]
  },
  {
   "cell_type": "code",
   "execution_count": 80,
   "id": "f1ea8abb",
   "metadata": {},
   "outputs": [
    {
     "data": {
      "text/plain": [
       "[1, 3, 4.9, 3, 'how', 'are', 7]"
      ]
     },
     "execution_count": 80,
     "metadata": {},
     "output_type": "execute_result"
    }
   ],
   "source": [
    "list1"
   ]
  },
  {
   "cell_type": "code",
   "execution_count": 82,
   "id": "d08820df",
   "metadata": {},
   "outputs": [],
   "source": [
    "list3 = list2.copy()\n",
    "\n",
    "list3[-1]='seven'"
   ]
  },
  {
   "cell_type": "code",
   "execution_count": 83,
   "id": "27bc3030",
   "metadata": {},
   "outputs": [
    {
     "name": "stdout",
     "output_type": "stream",
     "text": [
      "[1, 3, 4.9, 3, 'how', 'are', 'seven']\n"
     ]
    }
   ],
   "source": [
    "print(list3)\n"
   ]
  },
  {
   "cell_type": "code",
   "execution_count": 84,
   "id": "89b9ab92",
   "metadata": {},
   "outputs": [
    {
     "data": {
      "text/plain": [
       "[1, 3, 4.9, 3, 'how', 'are', 7]"
      ]
     },
     "execution_count": 84,
     "metadata": {},
     "output_type": "execute_result"
    }
   ],
   "source": [
    "list2"
   ]
  },
  {
   "cell_type": "code",
   "execution_count": 85,
   "id": "b7bfcd53",
   "metadata": {},
   "outputs": [
    {
     "data": {
      "text/plain": [
       "[1, 3, 4.9, 3, 'how', 'are', 7]"
      ]
     },
     "execution_count": 85,
     "metadata": {},
     "output_type": "execute_result"
    }
   ],
   "source": [
    "list1"
   ]
  },
  {
   "cell_type": "code",
   "execution_count": 14,
   "id": "ba08fc62",
   "metadata": {},
   "outputs": [
    {
     "data": {
      "text/plain": [
       "[1, 3, 'four point nine', 3, 'how', 'are', 7, 'you', 3.9]"
      ]
     },
     "execution_count": 14,
     "metadata": {},
     "output_type": "execute_result"
    }
   ],
   "source": [
    "\n",
    "list2[2] = \"four point nine\"\n",
    "\n",
    "list2"
   ]
  },
  {
   "cell_type": "code",
   "execution_count": 15,
   "id": "5245fe7f",
   "metadata": {
    "scrolled": true
   },
   "outputs": [
    {
     "data": {
      "text/plain": [
       "[1, 3, 4.9, 3, 'how', 'are', 7, 'you', 3.9]"
      ]
     },
     "execution_count": 15,
     "metadata": {},
     "output_type": "execute_result"
    }
   ],
   "source": [
    "list1"
   ]
  },
  {
   "cell_type": "code",
   "execution_count": 16,
   "id": "54b7b40f",
   "metadata": {},
   "outputs": [
    {
     "data": {
      "text/plain": [
       "['one', 3, 4.9, 3, 'how', 'are', 7, 'you', 3.9]"
      ]
     },
     "execution_count": 16,
     "metadata": {},
     "output_type": "execute_result"
    }
   ],
   "source": [
    "list3 = list1\n",
    "\n",
    "list3[0] = \"one\"\n",
    "\n",
    "list3"
   ]
  },
  {
   "cell_type": "code",
   "execution_count": 17,
   "id": "7cd1ec86",
   "metadata": {},
   "outputs": [
    {
     "data": {
      "text/plain": [
       "['one', 3, 4.9, 3, 'how', 'are', 7, 'you', 3.9]"
      ]
     },
     "execution_count": 17,
     "metadata": {},
     "output_type": "execute_result"
    }
   ],
   "source": [
    "list1"
   ]
  },
  {
   "cell_type": "markdown",
   "id": "8ea24200",
   "metadata": {},
   "source": [
    "#### Slicing a List"
   ]
  },
  {
   "cell_type": "code",
   "execution_count": 86,
   "id": "1bbbebbf",
   "metadata": {},
   "outputs": [
    {
     "data": {
      "text/plain": [
       "'Sheilla'"
      ]
     },
     "execution_count": 86,
     "metadata": {},
     "output_type": "execute_result"
    }
   ],
   "source": [
    "name = \"Sheilla Kemboi\"\n",
    "\n",
    "name[0:7]\n",
    "\n"
   ]
  },
  {
   "cell_type": "code",
   "execution_count": 18,
   "id": "5fa2a7d9",
   "metadata": {},
   "outputs": [
    {
     "data": {
      "text/plain": [
       "['one', 3, 4.9, 3, 'how']"
      ]
     },
     "execution_count": 18,
     "metadata": {},
     "output_type": "execute_result"
    }
   ],
   "source": [
    "list4 = list1[0:5]\n",
    "\n",
    "list4"
   ]
  },
  {
   "cell_type": "code",
   "execution_count": 19,
   "id": "2968675e",
   "metadata": {},
   "outputs": [
    {
     "data": {
      "text/plain": [
       "['one', 3, 4.9, 3, 4.4]"
      ]
     },
     "execution_count": 19,
     "metadata": {},
     "output_type": "execute_result"
    }
   ],
   "source": [
    "list4[4] = 4.4\n",
    "\n",
    "list4"
   ]
  },
  {
   "cell_type": "code",
   "execution_count": 20,
   "id": "965fb63c",
   "metadata": {},
   "outputs": [
    {
     "data": {
      "text/plain": [
       "['one', 3, 4.9, 3, 'how', 'are', 7, 'you', 3.9]"
      ]
     },
     "execution_count": 20,
     "metadata": {},
     "output_type": "execute_result"
    }
   ],
   "source": [
    "list1"
   ]
  },
  {
   "cell_type": "markdown",
   "id": "a8c34555",
   "metadata": {},
   "source": [
    "### OTHER FUNCTIONS IN LISTS"
   ]
  },
  {
   "cell_type": "code",
   "execution_count": 21,
   "id": "5a2a3e63",
   "metadata": {},
   "outputs": [],
   "source": [
    "# clear() =>Removes All items in a list"
   ]
  },
  {
   "cell_type": "code",
   "execution_count": 22,
   "id": "66c7713d",
   "metadata": {},
   "outputs": [],
   "source": [
    "# pop() => Removes and returns item at index (default last)"
   ]
  },
  {
   "cell_type": "code",
   "execution_count": 23,
   "id": "089b9d2d",
   "metadata": {},
   "outputs": [],
   "source": [
    "# reverse() => Reverses a list \n",
    "# list[::-1]"
   ]
  },
  {
   "cell_type": "code",
   "execution_count": 89,
   "id": "38aded7b",
   "metadata": {},
   "outputs": [
    {
     "data": {
      "text/plain": [
       "'mon'"
      ]
     },
     "execution_count": 89,
     "metadata": {},
     "output_type": "execute_result"
    }
   ],
   "source": [
    "names =['abs','cat','dog','mon']\n",
    "names.pop()"
   ]
  },
  {
   "cell_type": "markdown",
   "id": "88e544c3",
   "metadata": {},
   "source": [
    "names\n"
   ]
  },
  {
   "cell_type": "code",
   "execution_count": 91,
   "id": "08efc9a4",
   "metadata": {},
   "outputs": [
    {
     "data": {
      "text/plain": [
       "'cat'"
      ]
     },
     "execution_count": 91,
     "metadata": {},
     "output_type": "execute_result"
    }
   ],
   "source": [
    "names.pop(1)"
   ]
  },
  {
   "cell_type": "code",
   "execution_count": 24,
   "id": "1b717ccd",
   "metadata": {},
   "outputs": [
    {
     "data": {
      "text/plain": [
       "[0, 1, 4, 9, 16, 25, 36, 49, 64, 81]"
      ]
     },
     "execution_count": 24,
     "metadata": {},
     "output_type": "execute_result"
    }
   ],
   "source": [
    "list5 = [i**2 for i in range(10)]\n",
    "\n",
    "list5"
   ]
  },
  {
   "cell_type": "code",
   "execution_count": null,
   "id": "edcf3c20",
   "metadata": {},
   "outputs": [],
   "source": []
  },
  {
   "cell_type": "code",
   "execution_count": null,
   "id": "cc19ae86",
   "metadata": {},
   "outputs": [],
   "source": []
  },
  {
   "cell_type": "markdown",
   "id": "2082d27c",
   "metadata": {},
   "source": [
    "# TUPLES => ORDERED, IMMUTABLE, DUPLICATES"
   ]
  },
  {
   "cell_type": "code",
   "execution_count": 92,
   "id": "fb5adf5e",
   "metadata": {},
   "outputs": [],
   "source": [
    "tuple1 = (1, 3, 4.9, \"name\", 3)"
   ]
  },
  {
   "cell_type": "code",
   "execution_count": 93,
   "id": "2076af57",
   "metadata": {},
   "outputs": [
    {
     "name": "stdout",
     "output_type": "stream",
     "text": [
      "<class 'tuple'>\n"
     ]
    }
   ],
   "source": [
    "print(type(tuple1))"
   ]
  },
  {
   "cell_type": "markdown",
   "id": "70d3a674",
   "metadata": {},
   "source": [
    "#### Accessing Values"
   ]
  },
  {
   "cell_type": "code",
   "execution_count": 94,
   "id": "6f35abd9",
   "metadata": {},
   "outputs": [
    {
     "name": "stdout",
     "output_type": "stream",
     "text": [
      "4.9\n"
     ]
    }
   ],
   "source": [
    "print(tuple1[2])"
   ]
  },
  {
   "cell_type": "markdown",
   "id": "be30aef1",
   "metadata": {},
   "source": [
    "#### Adding Elemnts "
   ]
  },
  {
   "cell_type": "code",
   "execution_count": 28,
   "id": "5870bf6a",
   "metadata": {},
   "outputs": [],
   "source": [
    "# Values cannot be added to a tuple\n",
    "# instead :: new tuple = tuple1 + tuple2"
   ]
  },
  {
   "cell_type": "code",
   "execution_count": 95,
   "id": "a0f8f252",
   "metadata": {},
   "outputs": [],
   "source": [
    "tuple2 = (\"a\", \"b\", 45)\n",
    "\n",
    "tuple3 = tuple1 + tuple2"
   ]
  },
  {
   "cell_type": "code",
   "execution_count": 98,
   "id": "111aa773",
   "metadata": {},
   "outputs": [
    {
     "data": {
      "text/plain": [
       "(1, 3, 4.9, 'name', 3, 'a', 'b', 45, 'a', 'b', 45, 'a', 'b', 45)"
      ]
     },
     "execution_count": 98,
     "metadata": {},
     "output_type": "execute_result"
    }
   ],
   "source": [
    "tuple3+=tuple2\n",
    "tuple3"
   ]
  },
  {
   "cell_type": "code",
   "execution_count": 99,
   "id": "8c951e39",
   "metadata": {},
   "outputs": [],
   "source": [
    "del tuple3"
   ]
  },
  {
   "cell_type": "markdown",
   "id": "b21c2ab4",
   "metadata": {},
   "source": [
    "#### Removing Elements"
   ]
  },
  {
   "cell_type": "code",
   "execution_count": 31,
   "id": "d90cdd94",
   "metadata": {},
   "outputs": [],
   "source": [
    "# Delete The Whole Tuple=>> del tuple"
   ]
  },
  {
   "cell_type": "code",
   "execution_count": null,
   "id": "09ebd618",
   "metadata": {},
   "outputs": [],
   "source": []
  },
  {
   "cell_type": "markdown",
   "id": "165f2f05",
   "metadata": {},
   "source": [
    "# SETS => UNORDERED, ADDABLE/REMOVABLE, NO DUPLICATES"
   ]
  },
  {
   "cell_type": "code",
   "execution_count": 100,
   "id": "e4c3dfff",
   "metadata": {},
   "outputs": [],
   "source": [
    "set1 = {1, 3, 4.9, \"name\", 3,'name'}"
   ]
  },
  {
   "cell_type": "code",
   "execution_count": 101,
   "id": "02d2ddf4",
   "metadata": {},
   "outputs": [
    {
     "name": "stdout",
     "output_type": "stream",
     "text": [
      "{1, 3, 4.9, 'name'}\n"
     ]
    }
   ],
   "source": [
    "print(set1)"
   ]
  },
  {
   "cell_type": "code",
   "execution_count": 34,
   "id": "c2f231c7",
   "metadata": {},
   "outputs": [
    {
     "name": "stdout",
     "output_type": "stream",
     "text": [
      "<class 'set'>\n"
     ]
    }
   ],
   "source": [
    "print(type(set1))"
   ]
  },
  {
   "cell_type": "markdown",
   "id": "0daaffdf",
   "metadata": {},
   "source": [
    "#### Accessing Values"
   ]
  },
  {
   "cell_type": "code",
   "execution_count": 103,
   "id": "53d95dbf",
   "metadata": {},
   "outputs": [
    {
     "name": "stdout",
     "output_type": "stream",
     "text": [
      "False\n"
     ]
    }
   ],
   "source": [
    "print('e' in set1)"
   ]
  },
  {
   "cell_type": "markdown",
   "id": "bedbe8f0",
   "metadata": {},
   "source": [
    "#### Adding Values"
   ]
  },
  {
   "cell_type": "code",
   "execution_count": 36,
   "id": "5b2a15cb",
   "metadata": {},
   "outputs": [],
   "source": [
    "# add() => adds one element\n",
    "# update() =>adds more elements"
   ]
  },
  {
   "cell_type": "code",
   "execution_count": 37,
   "id": "614813c4",
   "metadata": {},
   "outputs": [],
   "source": [
    "set1.add(56)"
   ]
  },
  {
   "cell_type": "code",
   "execution_count": 38,
   "id": "d3fadeea",
   "metadata": {},
   "outputs": [
    {
     "data": {
      "text/plain": [
       "{1, 3, 4.9, 56, 'name'}"
      ]
     },
     "execution_count": 38,
     "metadata": {},
     "output_type": "execute_result"
    }
   ],
   "source": [
    "set1"
   ]
  },
  {
   "cell_type": "code",
   "execution_count": 39,
   "id": "2fad215b",
   "metadata": {},
   "outputs": [],
   "source": [
    "set1.update({23, \"game\", 1})"
   ]
  },
  {
   "cell_type": "code",
   "execution_count": 40,
   "id": "c1fcd1c5",
   "metadata": {},
   "outputs": [
    {
     "data": {
      "text/plain": [
       "{1, 23, 3, 4.9, 56, 'game', 'name'}"
      ]
     },
     "execution_count": 40,
     "metadata": {},
     "output_type": "execute_result"
    }
   ],
   "source": [
    "set1"
   ]
  },
  {
   "cell_type": "markdown",
   "id": "38fe7d92",
   "metadata": {},
   "source": [
    "#### Removing Elements"
   ]
  },
  {
   "cell_type": "code",
   "execution_count": 41,
   "id": "631b3a5b",
   "metadata": {},
   "outputs": [],
   "source": [
    "# Deleting Specific Element =>> set.remove(item)\n",
    "# Deleting The Whole Set =>>del set"
   ]
  },
  {
   "cell_type": "code",
   "execution_count": 42,
   "id": "f36bec98",
   "metadata": {},
   "outputs": [],
   "source": [
    "# delete name\n",
    "\n",
    "set1.remove(\"name\")"
   ]
  },
  {
   "cell_type": "code",
   "execution_count": 43,
   "id": "92bad198",
   "metadata": {},
   "outputs": [
    {
     "data": {
      "text/plain": [
       "{1, 23, 3, 4.9, 56, 'game'}"
      ]
     },
     "execution_count": 43,
     "metadata": {},
     "output_type": "execute_result"
    }
   ],
   "source": [
    "set1"
   ]
  },
  {
   "cell_type": "markdown",
   "id": "966e547c",
   "metadata": {},
   "source": [
    "### OTHER FUNCTIONS IN SET"
   ]
  },
  {
   "cell_type": "code",
   "execution_count": 44,
   "id": "9479fec9",
   "metadata": {},
   "outputs": [],
   "source": [
    "# "
   ]
  },
  {
   "cell_type": "code",
   "execution_count": 45,
   "id": "a75e9a07",
   "metadata": {},
   "outputs": [
    {
     "data": {
      "text/plain": [
       "{4, 25, 64, 121, 196, 289}"
      ]
     },
     "execution_count": 45,
     "metadata": {},
     "output_type": "execute_result"
    }
   ],
   "source": [
    "set2 = {i**2 for i in range(2,20,3)}\n",
    "\n",
    "set2"
   ]
  },
  {
   "cell_type": "code",
   "execution_count": null,
   "id": "77901a24",
   "metadata": {},
   "outputs": [],
   "source": []
  },
  {
   "cell_type": "markdown",
   "id": "e68a3789",
   "metadata": {},
   "source": [
    "# DICTIONARY => UNORDERED, MUTABLE, NO DUPLICATE"
   ]
  },
  {
   "cell_type": "code",
   "execution_count": 46,
   "id": "5c7f69a0",
   "metadata": {},
   "outputs": [],
   "source": [
    "dict1 = {1:\"one\", 2:\"two\", \"three\":3, \"four\":4}"
   ]
  },
  {
   "cell_type": "code",
   "execution_count": 107,
   "id": "a06d70f0",
   "metadata": {},
   "outputs": [],
   "source": [
    "words ='hello'\n",
    "num = 'goodo'\n",
    "dd = {name:nums for name in words for nums in num}\n"
   ]
  },
  {
   "cell_type": "code",
   "execution_count": 108,
   "id": "e55d6627",
   "metadata": {},
   "outputs": [
    {
     "data": {
      "text/plain": [
       "{'h': 'o', 'e': 'o', 'l': 'o', 'o': 'o'}"
      ]
     },
     "execution_count": 108,
     "metadata": {},
     "output_type": "execute_result"
    }
   ],
   "source": [
    "dd"
   ]
  },
  {
   "cell_type": "code",
   "execution_count": 47,
   "id": "82c016a6",
   "metadata": {},
   "outputs": [
    {
     "name": "stdout",
     "output_type": "stream",
     "text": [
      "<class 'dict'>\n"
     ]
    }
   ],
   "source": [
    "print(type(dict1))"
   ]
  },
  {
   "cell_type": "markdown",
   "id": "28202874",
   "metadata": {},
   "source": [
    "#### Accessing Values"
   ]
  },
  {
   "cell_type": "code",
   "execution_count": 48,
   "id": "c225c8c1",
   "metadata": {},
   "outputs": [
    {
     "name": "stdout",
     "output_type": "stream",
     "text": [
      "4\n"
     ]
    }
   ],
   "source": [
    "print(dict1[\"four\"])"
   ]
  },
  {
   "cell_type": "markdown",
   "id": "0a837d8a",
   "metadata": {},
   "source": [
    "#### Adding Values"
   ]
  },
  {
   "cell_type": "code",
   "execution_count": 49,
   "id": "1a48eb60",
   "metadata": {},
   "outputs": [],
   "source": [
    "# dict[key] = new value\n",
    "# dict[new key] = new value"
   ]
  },
  {
   "cell_type": "code",
   "execution_count": 50,
   "id": "ca778b83",
   "metadata": {},
   "outputs": [],
   "source": [
    "dict1[\"new key\"] = \"new value\""
   ]
  },
  {
   "cell_type": "code",
   "execution_count": 109,
   "id": "2a45f3a5",
   "metadata": {},
   "outputs": [
    {
     "data": {
      "text/plain": [
       "{1: 'one', 2: 'two', 'three': 3, 'new key': 'new value'}"
      ]
     },
     "execution_count": 109,
     "metadata": {},
     "output_type": "execute_result"
    }
   ],
   "source": [
    "dict1"
   ]
  },
  {
   "cell_type": "code",
   "execution_count": 110,
   "id": "9916edfc",
   "metadata": {},
   "outputs": [],
   "source": [
    "dict1['key']= 'new value'"
   ]
  },
  {
   "cell_type": "code",
   "execution_count": 111,
   "id": "6b03ea61",
   "metadata": {},
   "outputs": [
    {
     "data": {
      "text/plain": [
       "{1: 'one', 2: 'two', 'three': 3, 'new key': 'new value', 'key': 'new value'}"
      ]
     },
     "execution_count": 111,
     "metadata": {},
     "output_type": "execute_result"
    }
   ],
   "source": [
    "dict1"
   ]
  },
  {
   "cell_type": "code",
   "execution_count": 112,
   "id": "d95e25d0",
   "metadata": {},
   "outputs": [],
   "source": [
    "dict1['key']= 'new'"
   ]
  },
  {
   "cell_type": "code",
   "execution_count": 113,
   "id": "9ab7eca8",
   "metadata": {},
   "outputs": [
    {
     "data": {
      "text/plain": [
       "{1: 'one', 2: 'two', 'three': 3, 'new key': 'new value', 'key': 'new'}"
      ]
     },
     "execution_count": 113,
     "metadata": {},
     "output_type": "execute_result"
    }
   ],
   "source": [
    "dict1"
   ]
  },
  {
   "cell_type": "markdown",
   "id": "6c5d9f68",
   "metadata": {},
   "source": [
    "#### Removing Elements"
   ]
  },
  {
   "cell_type": "code",
   "execution_count": 52,
   "id": "a6a91a5f",
   "metadata": {},
   "outputs": [],
   "source": [
    "# Deleting A Specific Element =>> del dict[value]\n",
    "# Deleting Whole Dictionary =>> del dict"
   ]
  },
  {
   "cell_type": "code",
   "execution_count": 114,
   "id": "5e464b8c",
   "metadata": {},
   "outputs": [],
   "source": [
    "# delete value whose keyis four\n",
    "\n",
    "del dict1[\"key\"]"
   ]
  },
  {
   "cell_type": "code",
   "execution_count": 115,
   "id": "5c9ec2e9",
   "metadata": {},
   "outputs": [
    {
     "data": {
      "text/plain": [
       "{1: 'one', 2: 'two', 'three': 3, 'new key': 'new value'}"
      ]
     },
     "execution_count": 115,
     "metadata": {},
     "output_type": "execute_result"
    }
   ],
   "source": [
    "dict1"
   ]
  },
  {
   "cell_type": "markdown",
   "id": "dc154203",
   "metadata": {},
   "source": [
    "### OTHER FUNCTIONS IN DICTIONARY"
   ]
  },
  {
   "cell_type": "code",
   "execution_count": 55,
   "id": "aa8660cd",
   "metadata": {},
   "outputs": [],
   "source": [
    "# dict1."
   ]
  },
  {
   "cell_type": "code",
   "execution_count": 56,
   "id": "2c5c582f",
   "metadata": {},
   "outputs": [],
   "source": [
    "# items() => returns all the items in a dictionary"
   ]
  },
  {
   "cell_type": "code",
   "execution_count": 116,
   "id": "be88f34f",
   "metadata": {},
   "outputs": [
    {
     "data": {
      "text/plain": [
       "dict_items([(1, 'one'), (2, 'two'), ('three', 3), ('new key', 'new value')])"
      ]
     },
     "execution_count": 116,
     "metadata": {},
     "output_type": "execute_result"
    }
   ],
   "source": [
    "dict1.items()"
   ]
  },
  {
   "cell_type": "code",
   "execution_count": null,
   "id": "158bc111",
   "metadata": {},
   "outputs": [],
   "source": []
  },
  {
   "cell_type": "markdown",
   "id": "b84bdae9",
   "metadata": {},
   "source": [
    "# EXERCISE"
   ]
  },
  {
   "cell_type": "markdown",
   "id": "b26c84f1",
   "metadata": {},
   "source": [
    "\"\"\" You are a teacher and you have student records containing id of a student and marks lidt in each \n",
    "        subject where different students have taken different no.of subjects.\n",
    "        All these records are inhard copy .\n",
    "        You want to enter all the data in computer and want to compute marks of each student and display \"\"\""
   ]
  },
  {
   "cell_type": "code",
   "execution_count": 117,
   "id": "d4936afe",
   "metadata": {},
   "outputs": [],
   "source": [
    "# function to collect data from user\n",
    "\n",
    "def getData():\n",
    "    \n",
    "    D = {}\n",
    "    \n",
    "    while True:\n",
    "        student_id = input(\"Enter student id ::\")\n",
    "        marks_list = input(\"Enter marks by csv :: \")\n",
    "        more_students = input(\"Enter \\\"no\\\" to quit insertion :: \")\n",
    "        \n",
    "        if student_id in D:\n",
    "            print(student_id, \" is already inserted\")\n",
    "        else:\n",
    "            D[student_id] = marks_list.split(\",\")\n",
    "        \n",
    "        if more_students.lower() == \"no\":\n",
    "            return D"
   ]
  },
  {
   "cell_type": "code",
   "execution_count": 58,
   "id": "6df9677e",
   "metadata": {},
   "outputs": [
    {
     "ename": "KeyboardInterrupt",
     "evalue": "Interrupted by user",
     "output_type": "error",
     "traceback": [
      "\u001b[1;31m---------------------------------------------------------------------------\u001b[0m",
      "\u001b[1;31mKeyboardInterrupt\u001b[0m                         Traceback (most recent call last)",
      "\u001b[1;32m~\\AppData\\Local\\Temp/ipykernel_9208/1645517791.py\u001b[0m in \u001b[0;36m<module>\u001b[1;34m\u001b[0m\n\u001b[1;32m----> 1\u001b[1;33m \u001b[0mstudent_data\u001b[0m \u001b[1;33m=\u001b[0m \u001b[0mgetData\u001b[0m\u001b[1;33m(\u001b[0m\u001b[1;33m)\u001b[0m\u001b[1;33m\u001b[0m\u001b[1;33m\u001b[0m\u001b[0m\n\u001b[0m",
      "\u001b[1;32m~\\AppData\\Local\\Temp/ipykernel_9208/1906264835.py\u001b[0m in \u001b[0;36mgetData\u001b[1;34m()\u001b[0m\n\u001b[0;32m      6\u001b[0m \u001b[1;33m\u001b[0m\u001b[0m\n\u001b[0;32m      7\u001b[0m     \u001b[1;32mwhile\u001b[0m \u001b[1;32mTrue\u001b[0m\u001b[1;33m:\u001b[0m\u001b[1;33m\u001b[0m\u001b[1;33m\u001b[0m\u001b[0m\n\u001b[1;32m----> 8\u001b[1;33m         \u001b[0mstudent_id\u001b[0m \u001b[1;33m=\u001b[0m \u001b[0minput\u001b[0m\u001b[1;33m(\u001b[0m\u001b[1;34m\"Enter student id ::\"\u001b[0m\u001b[1;33m)\u001b[0m\u001b[1;33m\u001b[0m\u001b[1;33m\u001b[0m\u001b[0m\n\u001b[0m\u001b[0;32m      9\u001b[0m         \u001b[0mmarks_list\u001b[0m \u001b[1;33m=\u001b[0m \u001b[0minput\u001b[0m\u001b[1;33m(\u001b[0m\u001b[1;34m\"Enter marks by csv :: \"\u001b[0m\u001b[1;33m)\u001b[0m\u001b[1;33m\u001b[0m\u001b[1;33m\u001b[0m\u001b[0m\n\u001b[0;32m     10\u001b[0m         \u001b[0mmore_students\u001b[0m \u001b[1;33m=\u001b[0m \u001b[0minput\u001b[0m\u001b[1;33m(\u001b[0m\u001b[1;34m\"Enter \\\"no\\\" to quit insertion :: \"\u001b[0m\u001b[1;33m)\u001b[0m\u001b[1;33m\u001b[0m\u001b[1;33m\u001b[0m\u001b[0m\n",
      "\u001b[1;32m~\\anaconda3\\lib\\site-packages\\ipykernel\\kernelbase.py\u001b[0m in \u001b[0;36mraw_input\u001b[1;34m(self, prompt)\u001b[0m\n\u001b[0;32m   1004\u001b[0m                 \u001b[1;34m\"raw_input was called, but this frontend does not support input requests.\"\u001b[0m\u001b[1;33m\u001b[0m\u001b[1;33m\u001b[0m\u001b[0m\n\u001b[0;32m   1005\u001b[0m             )\n\u001b[1;32m-> 1006\u001b[1;33m         return self._input_request(\n\u001b[0m\u001b[0;32m   1007\u001b[0m             \u001b[0mstr\u001b[0m\u001b[1;33m(\u001b[0m\u001b[0mprompt\u001b[0m\u001b[1;33m)\u001b[0m\u001b[1;33m,\u001b[0m\u001b[1;33m\u001b[0m\u001b[1;33m\u001b[0m\u001b[0m\n\u001b[0;32m   1008\u001b[0m             \u001b[0mself\u001b[0m\u001b[1;33m.\u001b[0m\u001b[0m_parent_ident\u001b[0m\u001b[1;33m[\u001b[0m\u001b[1;34m\"shell\"\u001b[0m\u001b[1;33m]\u001b[0m\u001b[1;33m,\u001b[0m\u001b[1;33m\u001b[0m\u001b[1;33m\u001b[0m\u001b[0m\n",
      "\u001b[1;32m~\\anaconda3\\lib\\site-packages\\ipykernel\\kernelbase.py\u001b[0m in \u001b[0;36m_input_request\u001b[1;34m(self, prompt, ident, parent, password)\u001b[0m\n\u001b[0;32m   1049\u001b[0m             \u001b[1;32mexcept\u001b[0m \u001b[0mKeyboardInterrupt\u001b[0m\u001b[1;33m:\u001b[0m\u001b[1;33m\u001b[0m\u001b[1;33m\u001b[0m\u001b[0m\n\u001b[0;32m   1050\u001b[0m                 \u001b[1;31m# re-raise KeyboardInterrupt, to truncate traceback\u001b[0m\u001b[1;33m\u001b[0m\u001b[1;33m\u001b[0m\u001b[0m\n\u001b[1;32m-> 1051\u001b[1;33m                 \u001b[1;32mraise\u001b[0m \u001b[0mKeyboardInterrupt\u001b[0m\u001b[1;33m(\u001b[0m\u001b[1;34m\"Interrupted by user\"\u001b[0m\u001b[1;33m)\u001b[0m \u001b[1;32mfrom\u001b[0m \u001b[1;32mNone\u001b[0m\u001b[1;33m\u001b[0m\u001b[1;33m\u001b[0m\u001b[0m\n\u001b[0m\u001b[0;32m   1052\u001b[0m             \u001b[1;32mexcept\u001b[0m \u001b[0mException\u001b[0m\u001b[1;33m:\u001b[0m\u001b[1;33m\u001b[0m\u001b[1;33m\u001b[0m\u001b[0m\n\u001b[0;32m   1053\u001b[0m                 \u001b[0mself\u001b[0m\u001b[1;33m.\u001b[0m\u001b[0mlog\u001b[0m\u001b[1;33m.\u001b[0m\u001b[0mwarning\u001b[0m\u001b[1;33m(\u001b[0m\u001b[1;34m\"Invalid Message:\"\u001b[0m\u001b[1;33m,\u001b[0m \u001b[0mexc_info\u001b[0m\u001b[1;33m=\u001b[0m\u001b[1;32mTrue\u001b[0m\u001b[1;33m)\u001b[0m\u001b[1;33m\u001b[0m\u001b[1;33m\u001b[0m\u001b[0m\n",
      "\u001b[1;31mKeyboardInterrupt\u001b[0m: Interrupted by user"
     ]
    }
   ],
   "source": [
    "student_data = getData()"
   ]
  },
  {
   "cell_type": "code",
   "execution_count": null,
   "id": "3624d05a",
   "metadata": {},
   "outputs": [],
   "source": [
    "student_data"
   ]
  },
  {
   "cell_type": "code",
   "execution_count": null,
   "id": "08797f4b",
   "metadata": {},
   "outputs": [],
   "source": [
    "def getAvg(D):\n",
    "    avgMarks = {}\n",
    "    for i in D:\n",
    "        L = D[i]\n",
    "        sum = 0\n",
    "        for marks in L:\n",
    "            sum += int(marks)\n",
    "        avgMarks[i] = sum / len(L)\n",
    "    return avgMarks\n",
    "    "
   ]
  },
  {
   "cell_type": "code",
   "execution_count": null,
   "id": "6878d1ce",
   "metadata": {},
   "outputs": [],
   "source": [
    "student_data"
   ]
  },
  {
   "cell_type": "code",
   "execution_count": null,
   "id": "f2cf7d70",
   "metadata": {},
   "outputs": [],
   "source": [
    "avg = getAvg(student_data)"
   ]
  },
  {
   "cell_type": "code",
   "execution_count": null,
   "id": "32576dde",
   "metadata": {},
   "outputs": [],
   "source": [
    "avg"
   ]
  },
  {
   "cell_type": "code",
   "execution_count": null,
   "id": "16ba2860",
   "metadata": {},
   "outputs": [],
   "source": [
    "for i in avg:\n",
    "    print(\"Student : \", i, \" got average mark of : \", int(avg[i]))"
   ]
  },
  {
   "cell_type": "code",
   "execution_count": null,
   "id": "ba1ce4f8",
   "metadata": {},
   "outputs": [],
   "source": []
  }
 ],
 "metadata": {
  "kernelspec": {
   "display_name": "Python 3 (ipykernel)",
   "language": "python",
   "name": "python3"
  },
  "language_info": {
   "codemirror_mode": {
    "name": "ipython",
    "version": 3
   },
   "file_extension": ".py",
   "mimetype": "text/x-python",
   "name": "python",
   "nbconvert_exporter": "python",
   "pygments_lexer": "ipython3",
   "version": "3.9.7"
  }
 },
 "nbformat": 4,
 "nbformat_minor": 5
}
