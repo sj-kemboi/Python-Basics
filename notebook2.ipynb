{
 "cells": [
  {
   "cell_type": "markdown",
   "id": "c4b22dfb",
   "metadata": {},
   "source": [
    "# Functions"
   ]
  },
  {
   "cell_type": "markdown",
   "id": "38a2734d",
   "metadata": {},
   "source": [
    "### Sorting A List"
   ]
  },
  {
   "cell_type": "code",
   "execution_count": 3,
   "id": "3fd47a15",
   "metadata": {},
   "outputs": [],
   "source": [
    "\n",
    "# Minimum Index Code\n",
    "def minimum(list, startIdx):\n",
    "    min = list[startIdx]\n",
    "    index = startIdx\n",
    "    for i in range(startIdx, len(list)):\n",
    "        j = list[i]\n",
    "        if j < min:\n",
    "            min = j\n",
    "            index = i\n",
    "        else:\n",
    "            pass\n",
    "    return min, index\n",
    "        \n",
    "        \n",
    "    "
   ]
  },
  {
   "cell_type": "code",
   "execution_count": 10,
   "id": "bc3068e4",
   "metadata": {},
   "outputs": [],
   "source": [
    "# Sorting A List In Ascending Order\n",
    "\n",
    "def sortList(list):\n",
    "    for j in range(len(list)):\n",
    "        min = list[j]\n",
    "        min_index = j\n",
    "        c = j\n",
    "\n",
    "        for i in range(j, len(list)):\n",
    "            if list[i] < min:\n",
    "                min = list[i]\n",
    "                min_index = c\n",
    "            c += 1\n",
    "\n",
    "        temp = list[j]\n",
    "        list[j] = min\n",
    "        list[min_index] = temp\n",
    "\n",
    "    print(list)\n",
    "   "
   ]
  },
  {
   "cell_type": "code",
   "execution_count": 11,
   "id": "1c92c2b7",
   "metadata": {},
   "outputs": [
    {
     "name": "stdout",
     "output_type": "stream",
     "text": [
      "[0, 1, 34, 67, 78, 90, 787]\n"
     ]
    }
   ],
   "source": [
    "list = [34, 90, 78, 1, 0 , 67 , 787]\n",
    "\n",
    "sortList(list)"
   ]
  },
  {
   "cell_type": "markdown",
   "id": "871bee5c",
   "metadata": {},
   "source": [
    "# STRINGS => IMMUTABLE"
   ]
  },
  {
   "cell_type": "code",
   "execution_count": 1,
   "id": "475743ba",
   "metadata": {},
   "outputs": [
    {
     "data": {
      "text/plain": [
       "'Sheilla\" J'"
      ]
     },
     "execution_count": 1,
     "metadata": {},
     "output_type": "execute_result"
    }
   ],
   "source": [
    "name = \"Sheilla\\\" Jebichii Kemboi\"\n",
    "\n",
    "# Slicing a String\n",
    "\n",
    "name[0:10]"
   ]
  },
  {
   "cell_type": "code",
   "execution_count": 2,
   "id": "1e046e67",
   "metadata": {},
   "outputs": [
    {
     "data": {
      "text/plain": [
       "''"
      ]
     },
     "execution_count": 2,
     "metadata": {},
     "output_type": "execute_result"
    }
   ],
   "source": [
    "name[-1:-8]"
   ]
  },
  {
   "cell_type": "code",
   "execution_count": 3,
   "id": "077c9d91",
   "metadata": {},
   "outputs": [
    {
     "data": {
      "text/plain": [
       "'i Kembo'"
      ]
     },
     "execution_count": 3,
     "metadata": {},
     "output_type": "execute_result"
    }
   ],
   "source": [
    "name[-8:-1]"
   ]
  },
  {
   "cell_type": "code",
   "execution_count": 4,
   "id": "e8f04ecb",
   "metadata": {},
   "outputs": [],
   "source": [
    "# Start a String From 0 to 10, but excluding 10; Picking a string After Every 2 steps"
   ]
  },
  {
   "cell_type": "code",
   "execution_count": 5,
   "id": "60ef78c3",
   "metadata": {},
   "outputs": [
    {
     "data": {
      "text/plain": [
       "'SelaJ'"
      ]
     },
     "execution_count": 5,
     "metadata": {},
     "output_type": "execute_result"
    }
   ],
   "source": [
    "name[0:10:2]"
   ]
  },
  {
   "cell_type": "code",
   "execution_count": 6,
   "id": "186c6993",
   "metadata": {},
   "outputs": [],
   "source": [
    "# str[start:end:step]"
   ]
  },
  {
   "cell_type": "code",
   "execution_count": 7,
   "id": "514faa60",
   "metadata": {},
   "outputs": [
    {
     "data": {
      "text/plain": [
       "'Sheilla Jebi'"
      ]
     },
     "execution_count": 7,
     "metadata": {},
     "output_type": "execute_result"
    }
   ],
   "source": [
    "name[:12]\n"
   ]
  },
  {
   "cell_type": "code",
   "execution_count": 8,
   "id": "484d89ca",
   "metadata": {},
   "outputs": [
    {
     "data": {
      "text/plain": [
       "'illa Jebichii Kemboi'"
      ]
     },
     "execution_count": 8,
     "metadata": {},
     "output_type": "execute_result"
    }
   ],
   "source": [
    "name[3:]"
   ]
  },
  {
   "cell_type": "code",
   "execution_count": 9,
   "id": "f7e3e984",
   "metadata": {},
   "outputs": [
    {
     "data": {
      "text/plain": [
       "'heilla Jebi'"
      ]
     },
     "execution_count": 9,
     "metadata": {},
     "output_type": "execute_result"
    }
   ],
   "source": [
    "name[1:12]"
   ]
  },
  {
   "cell_type": "code",
   "execution_count": 6,
   "id": "d0e36224",
   "metadata": {},
   "outputs": [
    {
     "name": "stdout",
     "output_type": "stream",
     "text": [
      "ekotaM\n",
      "6\n"
     ]
    },
    {
     "data": {
      "text/plain": [
       "'iobmeK iihcibeJ \"alliehS'"
      ]
     },
     "execution_count": 6,
     "metadata": {},
     "output_type": "execute_result"
    }
   ],
   "source": [
    "# Reversing A String\n",
    "nam = 'Matoke'\n",
    "print(nam[::-1])\n",
    "print(len(nam))\n",
    "\n",
    "name[::-1]"
   ]
  },
  {
   "cell_type": "code",
   "execution_count": 11,
   "id": "b4e5cb72",
   "metadata": {},
   "outputs": [
    {
     "name": "stdout",
     "output_type": "stream",
     "text": [
      "23\n"
     ]
    }
   ],
   "source": [
    "# length Of A String\n",
    "\n",
    "print(len(name))"
   ]
  },
  {
   "cell_type": "code",
   "execution_count": 12,
   "id": "bc790005",
   "metadata": {},
   "outputs": [
    {
     "name": "stdout",
     "output_type": "stream",
     "text": [
      "10\n"
     ]
    }
   ],
   "source": [
    "# Length Of A Substring\n",
    "\n",
    "print(len(name[0:10]))"
   ]
  },
  {
   "cell_type": "markdown",
   "id": "21836a6b",
   "metadata": {},
   "source": [
    "#### String Methods"
   ]
  },
  {
   "cell_type": "code",
   "execution_count": 13,
   "id": "7a6020e3",
   "metadata": {},
   "outputs": [],
   "source": [
    "a =\"     ABC  DEF   GHIJKL    MNOP     QRS   TU  VW   XY       Z\""
   ]
  },
  {
   "cell_type": "code",
   "execution_count": 9,
   "id": "253e7ad6",
   "metadata": {},
   "outputs": [
    {
     "data": {
      "text/plain": [
       "9"
      ]
     },
     "execution_count": 9,
     "metadata": {},
     "output_type": "execute_result"
    }
   ],
   "source": [
    "name = \"   Sheilla  \"\n",
    "\n",
    "\n",
    "# remove spacing to the left => lstrip()\n",
    "# remove spacing to the right => rstrip()\n",
    "name2 = name.lstrip()\n",
    "\n",
    "len(name2)"
   ]
  },
  {
   "cell_type": "code",
   "execution_count": 14,
   "id": "a8055f01",
   "metadata": {},
   "outputs": [
    {
     "name": "stdout",
     "output_type": "stream",
     "text": [
      "ABC  DEF   GHIJKL    MNOP     QRS   TU  VW   XY       Z\n"
     ]
    }
   ],
   "source": [
    "# strip() => display the srting the way it is.\n",
    "\n",
    "b = a.strip()\n",
    "\n",
    "print(b)"
   ]
  },
  {
   "cell_type": "code",
   "execution_count": 15,
   "id": "be6b139e",
   "metadata": {},
   "outputs": [
    {
     "name": "stdout",
     "output_type": "stream",
     "text": [
      "     abc  def   ghijkl    mnop     qrs   tu  vw   xy       z\n"
     ]
    }
   ],
   "source": [
    "# lower() => converts string to lowercase\n",
    "\n",
    "b = a.lower()\n",
    "\n",
    "print(b)"
   ]
  },
  {
   "cell_type": "code",
   "execution_count": 17,
   "id": "8e80eb6d",
   "metadata": {},
   "outputs": [
    {
     "name": "stdout",
     "output_type": "stream",
     "text": [
      "     ABC  DEF   GHIJKL    MNOP     QRS   TU  VW   XY       Z\n"
     ]
    }
   ],
   "source": [
    "# upper() => converts string to uppercase\n",
    "\n",
    "b = a.upper()\n",
    "\n",
    "print(b)"
   ]
  },
  {
   "cell_type": "code",
   "execution_count": 12,
   "id": "8072a177",
   "metadata": {},
   "outputs": [
    {
     "name": "stdout",
     "output_type": "stream",
     "text": [
      "ABC**DEF***GHIJKL****MNOP*****QRS***TU**VW***XY*******Z\n"
     ]
    }
   ],
   "source": [
    "# replace() => replaces aspecified string to the value assigned to it.\n",
    "a='ABC  DEF   GHIJKL    MNOP     QRS   TU  VW   XY       Z'\n",
    "b = a.replace(\" \", \"*\")\n",
    "\n",
    "print(b)"
   ]
  },
  {
   "cell_type": "code",
   "execution_count": 13,
   "id": "cdd97301",
   "metadata": {},
   "outputs": [
    {
     "name": "stdout",
     "output_type": "stream",
     "text": [
      "[' ABC ', ' DEF ; GHIJKL ', '  MNOP ', '  QRS ;  TU ; VW ;  XY   ;  Z']\n"
     ]
    }
   ],
   "source": [
    "# split() => returns a splitted string .\n",
    "\n",
    "a =\" ABC * DEF ; GHIJKL *  MNOP *  QRS ;  TU ; VW ;  XY   ;  Z\"\n",
    "\n",
    "\n",
    "list = a.split(\"*\")\n",
    "\n",
    "print(list)"
   ]
  },
  {
   "cell_type": "code",
   "execution_count": 14,
   "id": "90f9e3b3",
   "metadata": {},
   "outputs": [
    {
     "data": {
      "text/plain": [
       "'  QRS ;  TU ; VW ;  XY   ;  Z'"
      ]
     },
     "execution_count": 14,
     "metadata": {},
     "output_type": "execute_result"
    }
   ],
   "source": [
    "list[3]"
   ]
  },
  {
   "cell_type": "code",
   "execution_count": 26,
   "id": "abc62dc9",
   "metadata": {},
   "outputs": [
    {
     "name": "stdout",
     "output_type": "stream",
     "text": [
      "Sheilla jebichii\n"
     ]
    }
   ],
   "source": [
    "# capatalize()\n",
    "\n",
    "a = \"sheilla jebichii\"\n",
    "\n",
    "b = a.capitalize()\n",
    "\n",
    "print(b)"
   ]
  },
  {
   "cell_type": "code",
   "execution_count": 28,
   "id": "204ba90e",
   "metadata": {},
   "outputs": [
    {
     "name": "stdout",
     "output_type": "stream",
     "text": [
      "Sheilla jebichii\n"
     ]
    }
   ],
   "source": [
    "a = \"SHEILLA JEBICHII\"\n",
    "\n",
    "print(a.capitalize())"
   ]
  },
  {
   "cell_type": "code",
   "execution_count": 15,
   "id": "f596d913",
   "metadata": {},
   "outputs": [
    {
     "data": {
      "text/plain": [
       "False"
      ]
     },
     "execution_count": 15,
     "metadata": {},
     "output_type": "execute_result"
    }
   ],
   "source": [
    "# in => checks if a substring occurs in a string\n",
    "\n",
    "\"z\" in \"hjk/l;,/.abcjkl;lkl\""
   ]
  },
  {
   "cell_type": "code",
   "execution_count": 30,
   "id": "4e89da18",
   "metadata": {},
   "outputs": [
    {
     "data": {
      "text/plain": [
       "True"
      ]
     },
     "execution_count": 30,
     "metadata": {},
     "output_type": "execute_result"
    }
   ],
   "source": [
    "# == for comparison\n",
    "\n",
    "\"abc\" == \"abc\""
   ]
  },
  {
   "cell_type": "code",
   "execution_count": 17,
   "id": "d93f1cfb",
   "metadata": {},
   "outputs": [
    {
     "data": {
      "text/plain": [
       "True"
      ]
     },
     "execution_count": 17,
     "metadata": {},
     "output_type": "execute_result"
    }
   ],
   "source": [
    "# < for comparing string based on the first letter in that given string\n",
    "\n",
    "\"elephant\" < \"food\"\n"
   ]
  },
  {
   "cell_type": "code",
   "execution_count": 22,
   "id": "bb37c7c1",
   "metadata": {},
   "outputs": [
    {
     "data": {
      "text/plain": [
       "False"
      ]
     },
     "execution_count": 22,
     "metadata": {},
     "output_type": "execute_result"
    }
   ],
   "source": [
    "\"a\" > \"a\"\n"
   ]
  },
  {
   "cell_type": "code",
   "execution_count": 32,
   "id": "e3511083",
   "metadata": {},
   "outputs": [
    {
     "name": "stdout",
     "output_type": "stream",
     "text": [
      "I am Learning \"Strings\" in Python\n"
     ]
    }
   ],
   "source": [
    "# printing a String in \"\" inside a string\n",
    "\n",
    "print(\"I am Learning \\\"Strings\\\" in Python\")"
   ]
  },
  {
   "cell_type": "code",
   "execution_count": 33,
   "id": "a86ed9a9",
   "metadata": {},
   "outputs": [
    {
     "name": "stdout",
     "output_type": "stream",
     "text": [
      "c:\n",
      "ame\\drive\n"
     ]
    }
   ],
   "source": [
    "print(\"c:\\name\\drive\")"
   ]
  },
  {
   "cell_type": "code",
   "execution_count": 34,
   "id": "c564ca0b",
   "metadata": {},
   "outputs": [
    {
     "name": "stdout",
     "output_type": "stream",
     "text": [
      "c:\\name\\drive\n"
     ]
    }
   ],
   "source": [
    "print(r\"c:\\name\\drive\")"
   ]
  },
  {
   "cell_type": "code",
   "execution_count": null,
   "id": "93e21e57",
   "metadata": {},
   "outputs": [],
   "source": []
  }
 ],
 "metadata": {
  "kernelspec": {
   "display_name": "Python 3 (ipykernel)",
   "language": "python",
   "name": "python3"
  },
  "language_info": {
   "codemirror_mode": {
    "name": "ipython",
    "version": 3
   },
   "file_extension": ".py",
   "mimetype": "text/x-python",
   "name": "python",
   "nbconvert_exporter": "python",
   "pygments_lexer": "ipython3",
   "version": "3.9.7"
  }
 },
 "nbformat": 4,
 "nbformat_minor": 5
}
